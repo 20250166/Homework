{
  "nbformat": 4,
  "nbformat_minor": 0,
  "metadata": {
    "colab": {
      "provenance": [],
      "authorship_tag": "ABX9TyN8eNGAPc8APH+rWiq8FAiL",
      "include_colab_link": true
    },
    "kernelspec": {
      "name": "python3",
      "display_name": "Python 3"
    },
    "language_info": {
      "name": "python"
    }
  },
  "cells": [
    {
      "cell_type": "markdown",
      "metadata": {
        "id": "view-in-github",
        "colab_type": "text"
      },
      "source": [
        "<a href=\"https://colab.research.google.com/github/20250166/Homework/blob/main/20251004_5455.ipynb\" target=\"_parent\"><img src=\"https://colab.research.google.com/assets/colab-badge.svg\" alt=\"Open In Colab\"/></a>"
      ]
    },
    {
      "cell_type": "code",
      "execution_count": 1,
      "metadata": {
        "colab": {
          "base_uri": "https://localhost:8080/",
          "height": 36
        },
        "id": "vg6WarkuNLbR",
        "outputId": "e230a0e0-45f8-489f-c875-ab254444f050"
      },
      "outputs": [
        {
          "output_type": "execute_result",
          "data": {
            "text/plain": [
              "'054. (인덱스, 요소) 생성: enumerate()'"
            ],
            "application/vnd.google.colaboratory.intrinsic+json": {
              "type": "string"
            }
          },
          "metadata": {},
          "execution_count": 1
        }
      ],
      "source": [
        "\"054. (인덱스, 요소) 생성: enumerate()\""
      ]
    },
    {
      "cell_type": "code",
      "source": [
        "solarsys = ['태양', '수성', '지구', '화성', '목성', '토성', '천왕성', '해왕성']\n",
        "for i, body in enumerate(solarsys):\n",
        "  print(f'태양계의 {i}번째 천체: {body}')"
      ],
      "metadata": {
        "colab": {
          "base_uri": "https://localhost:8080/"
        },
        "id": "xWSc9hxkNQWF",
        "outputId": "fe953580-5b78-40d8-b1d3-a93a4fbcc068"
      },
      "execution_count": 2,
      "outputs": [
        {
          "output_type": "stream",
          "name": "stdout",
          "text": [
            "태양계의 0번째 천체: 태양\n",
            "태양계의 1번째 천체: 수성\n",
            "태양계의 2번째 천체: 지구\n",
            "태양계의 3번째 천체: 화성\n",
            "태양계의 4번째 천체: 목성\n",
            "태양계의 5번째 천체: 토성\n",
            "태양계의 6번째 천체: 천왕성\n",
            "태양계의 7번째 천체: 해왕성\n"
          ]
        }
      ]
    },
    {
      "cell_type": "code",
      "source": [
        "seasons = ['봄', '여름', '가을', '겨울']\n",
        "print(list(enumerate(seasons, start = 1)))"
      ],
      "metadata": {
        "colab": {
          "base_uri": "https://localhost:8080/"
        },
        "id": "fFfOb5DbNiDi",
        "outputId": "b5ee1059-a084-4a14-cb02-31272c24163e"
      },
      "execution_count": 4,
      "outputs": [
        {
          "output_type": "stream",
          "name": "stdout",
          "text": [
            "[(1, '봄'), (2, '여름'), (3, '가을'), (4, '겨울')]\n"
          ]
        }
      ]
    },
    {
      "cell_type": "code",
      "source": [
        "def myEnumerate(iterable, start = 0):\n",
        "  n = start\n",
        "  for item in iterable:\n",
        "    yield(n, item)\n",
        "    n += 1"
      ],
      "metadata": {
        "id": "7NMv2cHwOGID"
      },
      "execution_count": 8,
      "outputs": []
    },
    {
      "cell_type": "code",
      "source": [
        "print(list(myEnumerate(seasons, start = 1)))"
      ],
      "metadata": {
        "colab": {
          "base_uri": "https://localhost:8080/"
        },
        "id": "sCL1uBT-O0Ne",
        "outputId": "dfbac1f0-a0df-41cf-c5c6-848bb0c74e53"
      },
      "execution_count": 9,
      "outputs": [
        {
          "output_type": "stream",
          "name": "stdout",
          "text": [
            "[(1, '봄'), (2, '여름'), (3, '가을'), (4, '겨울')]\n"
          ]
        }
      ]
    },
    {
      "cell_type": "code",
      "source": [
        "\"055. 시퀀스 자료 역순 만들기: reversed()\""
      ],
      "metadata": {
        "colab": {
          "base_uri": "https://localhost:8080/",
          "height": 36
        },
        "id": "XLsM56RrO6lS",
        "outputId": "a3b30114-bb42-4fc6-dda5-e601feafc596"
      },
      "execution_count": 10,
      "outputs": [
        {
          "output_type": "execute_result",
          "data": {
            "text/plain": [
              "'055. 시퀀스 자료 역순 만들기: reversed()'"
            ],
            "application/vnd.google.colaboratory.intrinsic+json": {
              "type": "string"
            }
          },
          "metadata": {},
          "execution_count": 10
        }
      ]
    },
    {
      "cell_type": "code",
      "source": [
        "fruits = ('사과', '배', '오렌지', '수박')\n",
        "ret = reversed(fruits)\n",
        "print(list(ret))"
      ],
      "metadata": {
        "colab": {
          "base_uri": "https://localhost:8080/"
        },
        "id": "M1AQ3EDaPJkd",
        "outputId": "8f937bb5-1285-4e1a-9840-803680918de6"
      },
      "execution_count": 13,
      "outputs": [
        {
          "output_type": "stream",
          "name": "stdout",
          "text": [
            "['수박', '오렌지', '배', '사과']\n"
          ]
        }
      ]
    },
    {
      "cell_type": "code",
      "source": [
        "print(fruits)"
      ],
      "metadata": {
        "colab": {
          "base_uri": "https://localhost:8080/"
        },
        "id": "KCLo3n8ZQ1Cv",
        "outputId": "33b69260-7688-4088-f330-dd291a51182e"
      },
      "execution_count": 12,
      "outputs": [
        {
          "output_type": "stream",
          "name": "stdout",
          "text": [
            "('사과', '배', '오렌지', '수박')\n"
          ]
        }
      ]
    },
    {
      "cell_type": "code",
      "source": [
        "for i in reversed(range(1,6)):\n",
        "  print(i)"
      ],
      "metadata": {
        "colab": {
          "base_uri": "https://localhost:8080/"
        },
        "id": "EPsyq6-JQ27c",
        "outputId": "f7c758b0-7c42-49ae-b8e0-9cf3517848e0"
      },
      "execution_count": 14,
      "outputs": [
        {
          "output_type": "stream",
          "name": "stdout",
          "text": [
            "5\n",
            "4\n",
            "3\n",
            "2\n",
            "1\n"
          ]
        }
      ]
    },
    {
      "cell_type": "code",
      "source": [],
      "metadata": {
        "id": "vjAcIR2ZQ--j"
      },
      "execution_count": null,
      "outputs": []
    }
  ]
}
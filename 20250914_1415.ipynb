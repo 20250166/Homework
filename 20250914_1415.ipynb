{
  "nbformat": 4,
  "nbformat_minor": 0,
  "metadata": {
    "colab": {
      "provenance": [],
      "authorship_tag": "ABX9TyNyJKO1Jod+DtB25rqQ6oO0",
      "include_colab_link": true
    },
    "kernelspec": {
      "name": "python3",
      "display_name": "Python 3"
    },
    "language_info": {
      "name": "python"
    }
  },
  "cells": [
    {
      "cell_type": "markdown",
      "metadata": {
        "id": "view-in-github",
        "colab_type": "text"
      },
      "source": [
        "<a href=\"https://colab.research.google.com/github/20250166/Homework/blob/main/20250913_1415.ipynb\" target=\"_parent\"><img src=\"https://colab.research.google.com/assets/colab-badge.svg\" alt=\"Open In Colab\"/></a>"
      ]
    },
    {
      "cell_type": "code",
      "execution_count": 1,
      "metadata": {
        "colab": {
          "base_uri": "https://localhost:8080/",
          "height": 36
        },
        "id": "59e_KwL_DYzQ",
        "outputId": "7b19ddec-450f-4ceb-ae5a-dc71452df24d"
      },
      "outputs": [
        {
          "output_type": "execute_result",
          "data": {
            "text/plain": [
              "'014.True,False // boolean 상수인 참을 나타내는 True와 거짓을 나타내는 False에 대해 배운다.'"
            ],
            "application/vnd.google.colaboratory.intrinsic+json": {
              "type": "string"
            }
          },
          "metadata": {},
          "execution_count": 1
        }
      ],
      "source": [
        "\"014.True,False // boolean 상수인 참을 나타내는 True와 거짓을 나타내는 False에 대해 배운다.\""
      ]
    },
    {
      "cell_type": "code",
      "source": [
        "flag1 = True\n",
        "flag2 = False\n",
        "print(flag1 == 1)\n",
        "print(flag2 != 0)"
      ],
      "metadata": {
        "colab": {
          "base_uri": "https://localhost:8080/"
        },
        "id": "bU9gBEUPDho9",
        "outputId": "4519dace-6c7b-4131-d0f8-659227ec0b93"
      },
      "execution_count": 2,
      "outputs": [
        {
          "output_type": "stream",
          "name": "stdout",
          "text": [
            "True\n",
            "False\n"
          ]
        }
      ]
    },
    {
      "cell_type": "code",
      "source": [
        "#while True:\n",
        "  #실행 코드\n",
        "\n",
        "#무한 반복 로직 구현 코드"
      ],
      "metadata": {
        "id": "i0nDzpuKDrWA"
      },
      "execution_count": 3,
      "outputs": []
    },
    {
      "cell_type": "code",
      "source": [
        "#while True:\n",
        "  #실행 코드\n",
        "  #if조건 == True:\n",
        "    #break\n",
        "\n",
        "# 특정 조건을 만족하는 경우 무한 루프를 탈출하는 코드"
      ],
      "metadata": {
        "id": "rgblFK-PDx1n"
      },
      "execution_count": 4,
      "outputs": []
    },
    {
      "cell_type": "code",
      "source": [
        "\"015.if문: if~elif~else // 어떤 조건을 참과 거짓으로 판단하기 위한 if문에 대해 배운다.\""
      ],
      "metadata": {
        "colab": {
          "base_uri": "https://localhost:8080/",
          "height": 36
        },
        "id": "A-v4RFAJD-2o",
        "outputId": "04ce49f7-a23c-4f31-d972-2241cfd67a46"
      },
      "execution_count": 5,
      "outputs": [
        {
          "output_type": "execute_result",
          "data": {
            "text/plain": [
              "'015.if문: if~elif~else // 어떤 조건을 참과 거짓으로 판단하기 위한 if문에 대해 배운다.'"
            ],
            "application/vnd.google.colaboratory.intrinsic+json": {
              "type": "string"
            }
          },
          "metadata": {},
          "execution_count": 5
        }
      ]
    },
    {
      "cell_type": "code",
      "source": [
        "#if 조건:\n",
        "  #조건이 참일 경우 실행하는 코드"
      ],
      "metadata": {
        "id": "VVFloeFSEJwg"
      },
      "execution_count": 6,
      "outputs": []
    },
    {
      "cell_type": "code",
      "source": [
        "#if 조건:\n",
        "  #조건이 참일 경우 실행하는 코드\n",
        "#else 조건:\n",
        "  #조건이 거짓일 경우 실행하는 코드"
      ],
      "metadata": {
        "id": "Wz1wnuKyENp7"
      },
      "execution_count": 7,
      "outputs": []
    },
    {
      "cell_type": "code",
      "source": [
        "x = 1\n",
        "y = 2\n",
        "if x < y:\n",
        "  print('x가 y보다 작습니다.')\n",
        "else:\n",
        "  print('x가 y보다 작지 않습니다.')"
      ],
      "metadata": {
        "colab": {
          "base_uri": "https://localhost:8080/"
        },
        "id": "nWNHrg0aEVhq",
        "outputId": "c769f1d4-0b2e-4b97-9003-9d0a2a4dfa79"
      },
      "execution_count": 8,
      "outputs": [
        {
          "output_type": "stream",
          "name": "stdout",
          "text": [
            "x가 y보다 작습니다.\n"
          ]
        }
      ]
    },
    {
      "cell_type": "code",
      "source": [
        "#if 조건1:\n",
        "  #조건1이 참일 경우 실행하는 코드\n",
        "#elif 조건2:\n",
        "  #조건1이 거짓이고 조건 2가 참일 경우 실행하는 코드\n",
        "#else:\n",
        "  #조건1, 조건2가 모두 거짓일 경우 실행하는 코드\n",
        "\n",
        "#elif문의 갯수는 증가할 수 있음"
      ],
      "metadata": {
        "id": "8v9pI2DpEeSl"
      },
      "execution_count": null,
      "outputs": []
    },
    {
      "cell_type": "code",
      "source": [
        "x = 1\n",
        "y = 2\n",
        "if x<y:\n",
        "  print('x가 y보다 작습니다.')\n",
        "elif x<y:\n",
        "  print('x가 y보다 큽니다.')\n",
        "else:\n",
        "  print('x와 y가 같습니다.')"
      ],
      "metadata": {
        "colab": {
          "base_uri": "https://localhost:8080/"
        },
        "id": "RavO57NBEq7k",
        "outputId": "14d6bbc5-141a-4855-e3c5-293f1bc25b36"
      },
      "execution_count": 9,
      "outputs": [
        {
          "output_type": "stream",
          "name": "stdout",
          "text": [
            "x가 y보다 작습니다.\n"
          ]
        }
      ]
    }
  ]
}

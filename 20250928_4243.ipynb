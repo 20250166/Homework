{
  "nbformat": 4,
  "nbformat_minor": 0,
  "metadata": {
    "colab": {
      "provenance": [],
      "authorship_tag": "ABX9TyPuBFfFrmWWMP0Zcxz3LCgv",
      "include_colab_link": true
    },
    "kernelspec": {
      "name": "python3",
      "display_name": "Python 3"
    },
    "language_info": {
      "name": "python"
    }
  },
  "cells": [
    {
      "cell_type": "markdown",
      "metadata": {
        "id": "view-in-github",
        "colab_type": "text"
      },
      "source": [
        "<a href=\"https://colab.research.google.com/github/20250166/Homework/blob/main/20250928_4243.ipynb\" target=\"_parent\"><img src=\"https://colab.research.google.com/assets/colab-badge.svg\" alt=\"Open In Colab\"/></a>"
      ]
    },
    {
      "cell_type": "code",
      "execution_count": null,
      "metadata": {
        "colab": {
          "base_uri": "https://localhost:8080/",
          "height": 36
        },
        "id": "TkcXmVm4xrxq",
        "outputId": "6ba83c14-399c-424b-8b99-9fe4cf898e67"
      },
      "outputs": [
        {
          "output_type": "execute_result",
          "data": {
            "text/plain": [
              "'042. 인덱스가 같은 요소끼리 짝짓기: zip()'"
            ],
            "application/vnd.google.colaboratory.intrinsic+json": {
              "type": "string"
            }
          },
          "metadata": {},
          "execution_count": 1
        }
      ],
      "source": [
        "\"042. 인덱스가 같은 요소끼리 짝짓기: zip()\""
      ]
    },
    {
      "cell_type": "code",
      "source": [
        "male = ['슈퍼맨','심봉사','로미오','이몽룡','마루치']\n",
        "female = ['원더우먼','뺑덕어멈','줄리엣','성춘향','아라치']\n",
        "couples = zip(male,female)\n",
        "for couple in couples:\n",
        "  print(couple)"
      ],
      "metadata": {
        "colab": {
          "base_uri": "https://localhost:8080/"
        },
        "id": "sksn073N2O_m",
        "outputId": "7a5d310f-eae7-4c35-a1e7-bcbb4ff4f2e5"
      },
      "execution_count": null,
      "outputs": [
        {
          "output_type": "stream",
          "name": "stdout",
          "text": [
            "('슈퍼맨', '원더우먼')\n",
            "('심봉사', '뺑덕어멈')\n",
            "('로미오', '줄리엣')\n",
            "('이몽룡', '성춘향')\n",
            "('마루치', '아라치')\n"
          ]
        }
      ]
    },
    {
      "cell_type": "code",
      "source": [
        "male = ['슈퍼맨', '심봉사', '로미오']\n",
        "female = ['원더우먼', '뺑덕어멈', '줄리엣', '성춘향', '아라치']\n",
        "for couple in zip(male, female):\n",
        "  print(couple)"
      ],
      "metadata": {
        "colab": {
          "base_uri": "https://localhost:8080/"
        },
        "id": "0SSmRHO_2nem",
        "outputId": "cfc04ef0-702d-4f59-dbbe-2f28cfb5c2c4"
      },
      "execution_count": null,
      "outputs": [
        {
          "output_type": "stream",
          "name": "stdout",
          "text": [
            "('슈퍼맨', '원더우먼')\n",
            "('심봉사', '뺑덕어멈')\n",
            "('로미오', '줄리엣')\n"
          ]
        }
      ]
    },
    {
      "cell_type": "code",
      "source": [
        "male = ['슈퍼맨', '심봉사', '로미오']\n",
        "female = ['원더우먼', '뺑덕어멈', '줄리엣', '성춘향', '아라치']\n",
        "for couple in zip(male, female, strict = True):\n",
        "  print(couple)"
      ],
      "metadata": {
        "colab": {
          "base_uri": "https://localhost:8080/",
          "height": 261
        },
        "id": "WRdS3HkZ24gj",
        "outputId": "7389b175-e7d8-47de-e786-8c4a24d4837e"
      },
      "execution_count": null,
      "outputs": [
        {
          "output_type": "stream",
          "name": "stdout",
          "text": [
            "('슈퍼맨', '원더우먼')\n",
            "('심봉사', '뺑덕어멈')\n",
            "('로미오', '줄리엣')\n"
          ]
        },
        {
          "output_type": "error",
          "ename": "ValueError",
          "evalue": "zip() argument 2 is longer than argument 1",
          "traceback": [
            "\u001b[0;31m---------------------------------------------------------------------------\u001b[0m",
            "\u001b[0;31mValueError\u001b[0m                                Traceback (most recent call last)",
            "\u001b[0;32m/tmp/ipython-input-752731704.py\u001b[0m in \u001b[0;36m<cell line: 0>\u001b[0;34m()\u001b[0m\n\u001b[1;32m      1\u001b[0m \u001b[0mmale\u001b[0m \u001b[0;34m=\u001b[0m \u001b[0;34m[\u001b[0m\u001b[0;34m'슈퍼맨'\u001b[0m\u001b[0;34m,\u001b[0m \u001b[0;34m'심봉사'\u001b[0m\u001b[0;34m,\u001b[0m \u001b[0;34m'로미오'\u001b[0m\u001b[0;34m]\u001b[0m\u001b[0;34m\u001b[0m\u001b[0;34m\u001b[0m\u001b[0m\n\u001b[1;32m      2\u001b[0m \u001b[0mfemale\u001b[0m \u001b[0;34m=\u001b[0m \u001b[0;34m[\u001b[0m\u001b[0;34m'원더우먼'\u001b[0m\u001b[0;34m,\u001b[0m \u001b[0;34m'뺑덕어멈'\u001b[0m\u001b[0;34m,\u001b[0m \u001b[0;34m'줄리엣'\u001b[0m\u001b[0;34m,\u001b[0m \u001b[0;34m'성춘향'\u001b[0m\u001b[0;34m,\u001b[0m \u001b[0;34m'아라치'\u001b[0m\u001b[0;34m]\u001b[0m\u001b[0;34m\u001b[0m\u001b[0;34m\u001b[0m\u001b[0m\n\u001b[0;32m----> 3\u001b[0;31m \u001b[0;32mfor\u001b[0m \u001b[0mcouple\u001b[0m \u001b[0;32min\u001b[0m \u001b[0mzip\u001b[0m\u001b[0;34m(\u001b[0m\u001b[0mmale\u001b[0m\u001b[0;34m,\u001b[0m \u001b[0mfemale\u001b[0m\u001b[0;34m,\u001b[0m \u001b[0mstrict\u001b[0m \u001b[0;34m=\u001b[0m \u001b[0;32mTrue\u001b[0m\u001b[0;34m)\u001b[0m\u001b[0;34m:\u001b[0m\u001b[0;34m\u001b[0m\u001b[0;34m\u001b[0m\u001b[0m\n\u001b[0m\u001b[1;32m      4\u001b[0m   \u001b[0mprint\u001b[0m\u001b[0;34m(\u001b[0m\u001b[0mcouple\u001b[0m\u001b[0;34m)\u001b[0m\u001b[0;34m\u001b[0m\u001b[0;34m\u001b[0m\u001b[0m\n",
            "\u001b[0;31mValueError\u001b[0m: zip() argument 2 is longer than argument 1"
          ]
        }
      ]
    },
    {
      "cell_type": "code",
      "source": [
        "\"043.모든 요소가 참인지 확인하기: all(), any()\""
      ],
      "metadata": {
        "colab": {
          "base_uri": "https://localhost:8080/",
          "height": 36
        },
        "id": "5vqEG3mr3LXu",
        "outputId": "93af189d-5d8e-49db-e2ed-994320b34f91"
      },
      "execution_count": null,
      "outputs": [
        {
          "output_type": "execute_result",
          "data": {
            "text/plain": [
              "'043.모든 요소가 참인지 확인하기: all(), any()'"
            ],
            "application/vnd.google.colaboratory.intrinsic+json": {
              "type": "string"
            }
          },
          "metadata": {},
          "execution_count": 6
        }
      ]
    },
    {
      "cell_type": "code",
      "source": [
        "listData = [0,1,2,3,4]\n",
        "print(all(listData))\n",
        "print(any(listData))"
      ],
      "metadata": {
        "colab": {
          "base_uri": "https://localhost:8080/"
        },
        "id": "iotNe6qq3YPs",
        "outputId": "d2e6f98d-f336-4c09-a416-4c72aee39498"
      },
      "execution_count": null,
      "outputs": [
        {
          "output_type": "stream",
          "name": "stdout",
          "text": [
            "False\n",
            "True\n"
          ]
        }
      ]
    },
    {
      "cell_type": "code",
      "source": [
        "tupleData = (0,False,'',[],(),{},None)\n",
        "print(all(tupleData))\n",
        "print(any(tupleData))"
      ],
      "metadata": {
        "colab": {
          "base_uri": "https://localhost:8080/"
        },
        "id": "yB9yAKDc3gB8",
        "outputId": "20b5197a-ed4a-4e31-b1d2-7ac44c37e9f4"
      },
      "execution_count": null,
      "outputs": [
        {
          "output_type": "stream",
          "name": "stdout",
          "text": [
            "False\n",
            "False\n"
          ]
        }
      ]
    },
    {
      "cell_type": "code",
      "source": [],
      "metadata": {
        "id": "N-4AXUHu3tA-"
      },
      "execution_count": null,
      "outputs": []
    }
  ]
}
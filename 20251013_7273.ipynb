{
  "nbformat": 4,
  "nbformat_minor": 0,
  "metadata": {
    "colab": {
      "provenance": [],
      "authorship_tag": "ABX9TyPui5EQ/G8/6hOUw4JBKyA6",
      "include_colab_link": true
    },
    "kernelspec": {
      "name": "python3",
      "display_name": "Python 3"
    },
    "language_info": {
      "name": "python"
    }
  },
  "cells": [
    {
      "cell_type": "markdown",
      "metadata": {
        "id": "view-in-github",
        "colab_type": "text"
      },
      "source": [
        "<a href=\"https://colab.research.google.com/github/20250166/Homework/blob/main/20251013_7273.ipynb\" target=\"_parent\"><img src=\"https://colab.research.google.com/assets/colab-badge.svg\" alt=\"Open In Colab\"/></a>"
      ]
    },
    {
      "cell_type": "code",
      "execution_count": 1,
      "metadata": {
        "colab": {
          "base_uri": "https://localhost:8080/",
          "height": 36
        },
        "id": "7Flhy921AQCm",
        "outputId": "a05f523b-a279-4c62-f397-f5879325a82c"
      },
      "outputs": [
        {
          "output_type": "execute_result",
          "data": {
            "text/plain": [
              "'072. 유니코드 문자열'"
            ],
            "application/vnd.google.colaboratory.intrinsic+json": {
              "type": "string"
            }
          },
          "metadata": {},
          "execution_count": 1
        }
      ],
      "source": [
        "\"072. 유니코드 문자열\""
      ]
    },
    {
      "cell_type": "code",
      "source": [
        "\"\"\"\n",
        "strData1 = 'I love python!'\n",
        "strData2 = '사랑해요 파이썬!\"\n",
        "strData3 = '''A lot of things\n",
        "occur each day.'''\n",
        "\"\"\""
      ],
      "metadata": {
        "colab": {
          "base_uri": "https://localhost:8080/",
          "height": 36
        },
        "id": "wDtO4GtxASnG",
        "outputId": "8fceb25c-72ab-4f49-9082-3231034fdb5c"
      },
      "execution_count": 2,
      "outputs": [
        {
          "output_type": "execute_result",
          "data": {
            "text/plain": [
              "'\\nstrData1 = \\'I love python!\\'\\nstrData2 = \\'사랑해요 파이썬!\"\\nstrData3 = \\'\\'\\'A lot of things\\noccur each day.\\'\\'\\'\\n'"
            ],
            "application/vnd.google.colaboratory.intrinsic+json": {
              "type": "string"
            }
          },
          "metadata": {},
          "execution_count": 2
        }
      ]
    },
    {
      "cell_type": "code",
      "source": [
        "\"073. 문자 코드값 구하기: ord()\""
      ],
      "metadata": {
        "colab": {
          "base_uri": "https://localhost:8080/",
          "height": 36
        },
        "id": "0TQA7Ip6Af53",
        "outputId": "b4ef334a-1999-4273-b498-5916f8083ca2"
      },
      "execution_count": 3,
      "outputs": [
        {
          "output_type": "execute_result",
          "data": {
            "text/plain": [
              "'073. 문자 코드값 구하기: ord()'"
            ],
            "application/vnd.google.colaboratory.intrinsic+json": {
              "type": "string"
            }
          },
          "metadata": {},
          "execution_count": 3
        }
      ]
    },
    {
      "cell_type": "code",
      "source": [
        "while True:\n",
        "  ch = input('문자 1개를 입력하세요[끝내려면 엔터를 치세요]: ')\n",
        "  if len(ch) == 0:\n",
        "    break\n",
        "  ch = ch[0]\n",
        "  code = ord(ch)\n",
        "  print(f' --> 문자 \"{ch}\"의 코드값: {hex(code)}')"
      ],
      "metadata": {
        "colab": {
          "base_uri": "https://localhost:8080/"
        },
        "id": "H5CozOqSAl1B",
        "outputId": "c7a5edce-f0f3-46f3-84e4-efce2e395e28"
      },
      "execution_count": 4,
      "outputs": [
        {
          "name": "stdout",
          "output_type": "stream",
          "text": [
            "문자 1개를 입력하세요[끝내려면 엔터를 치세요]: 앙\n",
            " --> 문자 \"앙\"의 코드값: 0xc559\n",
            "문자 1개를 입력하세요[끝내려면 엔터를 치세요]: \n"
          ]
        }
      ]
    },
    {
      "cell_type": "code",
      "source": [
        "while True:\n",
        "  code = input('0x로 시작하는 16진수 문자 코드값을 입력하세요[끝내려면 엔터를 치세요]: ')\n",
        "  if len(code) == 0:\n",
        "    break\n",
        "  unicode = int(code,16)\n",
        "  try:\n",
        "    ch = chr(int(code, 16))\n",
        "    print(f' --> 코드값: {code}, 문자: \"{ch}\"')\n",
        "  except ValueError:\n",
        "    print(f'코드값 {code}에 해당하는 문자가 존재하지 않습니다.')"
      ],
      "metadata": {
        "colab": {
          "base_uri": "https://localhost:8080/"
        },
        "id": "ACQwtiVaA4tw",
        "outputId": "2e6ce61a-ebca-4a41-e8c0-188059d5aaed"
      },
      "execution_count": 6,
      "outputs": [
        {
          "name": "stdout",
          "output_type": "stream",
          "text": [
            "0x로 시작하는 16진수 문자 코드값을 입력하세요[끝내려면 엔터를 치세요]: 0x61\n",
            " --> 코드값: 0x61, 문자: \"a\"\n",
            "0x로 시작하는 16진수 문자 코드값을 입력하세요[끝내려면 엔터를 치세요]: \n"
          ]
        }
      ]
    },
    {
      "cell_type": "code",
      "source": [],
      "metadata": {
        "id": "i9nw1SGrBoUU"
      },
      "execution_count": null,
      "outputs": []
    }
  ]
}
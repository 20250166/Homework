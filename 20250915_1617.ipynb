{
  "nbformat": 4,
  "nbformat_minor": 0,
  "metadata": {
    "colab": {
      "provenance": [],
      "authorship_tag": "ABX9TyOUPvNYDnHb0u+DIuGqKD1C",
      "include_colab_link": true
    },
    "kernelspec": {
      "name": "python3",
      "display_name": "Python 3"
    },
    "language_info": {
      "name": "python"
    }
  },
  "cells": [
    {
      "cell_type": "markdown",
      "metadata": {
        "id": "view-in-github",
        "colab_type": "text"
      },
      "source": [
        "<a href=\"https://colab.research.google.com/github/20250166/Homework/blob/main/20250914_1617.ipynb\" target=\"_parent\"><img src=\"https://colab.research.google.com/assets/colab-badge.svg\" alt=\"Open In Colab\"/></a>"
      ]
    },
    {
      "cell_type": "code",
      "execution_count": null,
      "metadata": {
        "id": "PdTo0CiRFOiS"
      },
      "outputs": [],
      "source": [
        "\"016.for문: for~continue~break // 주어진 범위에서 반복적으로 코드를 실행하는 for문에 대해 배운다.\""
      ]
    },
    {
      "cell_type": "code",
      "source": [
        "#for 변수 in 범위:\n",
        "  #반복적으로 실행할 코드"
      ],
      "metadata": {
        "id": "ATfBSXBNFWvi"
      },
      "execution_count": 1,
      "outputs": []
    },
    {
      "cell_type": "code",
      "source": [
        "#문자열을 범위로 지정한 예\n",
        "\n",
        "strData = 'abcdef'\n",
        "for c in strData:\n",
        "  print(c,end = '-')"
      ],
      "metadata": {
        "colab": {
          "base_uri": "https://localhost:8080/"
        },
        "id": "lMlzZNlMFeTs",
        "outputId": "652230e8-c937-4b9f-d701-f4fb07d9c31f"
      },
      "execution_count": 5,
      "outputs": [
        {
          "output_type": "stream",
          "name": "stdout",
          "text": [
            "a-b-c-d-e-f-"
          ]
        }
      ]
    },
    {
      "cell_type": "code",
      "source": [
        "#리스트를 범위로 지정한 예\n",
        "\n",
        "listData = [1,2,3,4,5]\n",
        "for idx in listData:\n",
        "  print(idx,end = '-')"
      ],
      "metadata": {
        "colab": {
          "base_uri": "https://localhost:8080/"
        },
        "id": "qO8tC9yXFfxS",
        "outputId": "0399d440-fbd8-460a-f01c-c9223e843c0a"
      },
      "execution_count": 6,
      "outputs": [
        {
          "output_type": "stream",
          "name": "stdout",
          "text": [
            "1-2-3-4-5-"
          ]
        }
      ]
    },
    {
      "cell_type": "code",
      "source": [
        "#딕셔너리를 범위로 지정한 예\n",
        "\n",
        "ascii_codes = {'a':97, 'b':98, 'c':99}\n",
        "for code in ascii_codes.items():\n",
        "  print(code)"
      ],
      "metadata": {
        "colab": {
          "base_uri": "https://localhost:8080/"
        },
        "id": "bGnCa8ciFg0f",
        "outputId": "e6d88394-81ac-432f-ae5c-f95f9f49947b"
      },
      "execution_count": 7,
      "outputs": [
        {
          "output_type": "stream",
          "name": "stdout",
          "text": [
            "('a', 97)\n",
            "('b', 98)\n",
            "('c', 99)\n"
          ]
        }
      ]
    },
    {
      "cell_type": "code",
      "source": [
        "#range()함수를 범위로 지정한 예\n",
        "\n",
        "for i in range(10):\n",
        "  print(i,end='#')"
      ],
      "metadata": {
        "colab": {
          "base_uri": "https://localhost:8080/"
        },
        "id": "utiMMRVzFi_o",
        "outputId": "94261afd-077b-4296-adfa-65b14775fa90"
      },
      "execution_count": 8,
      "outputs": [
        {
          "output_type": "stream",
          "name": "stdout",
          "text": [
            "0#1#2#3#4#5#6#7#8#9#"
          ]
        }
      ]
    },
    {
      "cell_type": "code",
      "source": [
        "for i in [1,2,3,4,5]:\n",
        "  print(i)\n",
        "\n",
        "  if i < 2:\n",
        "    continue\n",
        "  else:\n",
        "    break"
      ],
      "metadata": {
        "colab": {
          "base_uri": "https://localhost:8080/"
        },
        "id": "0VtJmJX6GRN6",
        "outputId": "4f422b0c-20e9-457d-a971-fd4cb8ce51ec"
      },
      "execution_count": 9,
      "outputs": [
        {
          "output_type": "stream",
          "name": "stdout",
          "text": [
            "1\n",
            "2\n"
          ]
        }
      ]
    },
    {
      "cell_type": "code",
      "source": [
        "for i in [1,2,3,4,5]:\n",
        "  print(i)\n",
        "  if i == 2:\n",
        "    break"
      ],
      "metadata": {
        "colab": {
          "base_uri": "https://localhost:8080/"
        },
        "id": "61MxLCPcGd0l",
        "outputId": "c4acab23-2f2d-4c59-84fc-4a0224dd2f04"
      },
      "execution_count": 10,
      "outputs": [
        {
          "output_type": "stream",
          "name": "stdout",
          "text": [
            "1\n",
            "2\n"
          ]
        }
      ]
    },
    {
      "cell_type": "code",
      "source": [
        "\"017.for문: for~else // for문을 완전히 수행했을 때만 실행하는 부분을 정의하는 방법을 배운다.\""
      ],
      "metadata": {
        "colab": {
          "base_uri": "https://localhost:8080/",
          "height": 36
        },
        "id": "x7r0-bhyGj-J",
        "outputId": "b26bbf1c-f6a4-4e22-8339-58d17413f979"
      },
      "execution_count": 11,
      "outputs": [
        {
          "output_type": "execute_result",
          "data": {
            "text/plain": [
              "'017.for문: for~else // for문을 완전히 수행했을 때만 실행하는 부분을 정의하는 방법을 배웁니다.'"
            ],
            "application/vnd.google.colaboratory.intrinsic+json": {
              "type": "string"
            }
          },
          "metadata": {},
          "execution_count": 11
        }
      ]
    },
    {
      "cell_type": "code",
      "source": [
        "for x in [1,2,3]:\n",
        "  print(x)\n",
        "else:\n",
        "  print('Perfect!')"
      ],
      "metadata": {
        "colab": {
          "base_uri": "https://localhost:8080/"
        },
        "id": "UrbqN0XiGyLB",
        "outputId": "730d67f2-ca55-4771-89bb-f1417b28e974"
      },
      "execution_count": 12,
      "outputs": [
        {
          "output_type": "stream",
          "name": "stdout",
          "text": [
            "1\n",
            "2\n",
            "3\n",
            "Perfect!\n"
          ]
        }
      ]
    },
    {
      "cell_type": "code",
      "source": [
        "for x in [1,2,3]:\n",
        "  print(x)\n",
        "  if x>1:\n",
        "    break\n",
        "\n",
        "else:\n",
        "  print('Perfect!')"
      ],
      "metadata": {
        "colab": {
          "base_uri": "https://localhost:8080/"
        },
        "id": "08ACULn5G-Xf",
        "outputId": "f8e85636-b545-4cb0-9174-a484a946d490"
      },
      "execution_count": 13,
      "outputs": [
        {
          "output_type": "stream",
          "name": "stdout",
          "text": [
            "1\n",
            "2\n"
          ]
        }
      ]
    }
  ]
}

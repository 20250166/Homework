{
  "nbformat": 4,
  "nbformat_minor": 0,
  "metadata": {
    "colab": {
      "provenance": [],
      "authorship_tag": "ABX9TyMhrgbnhaWhkaK/7nWwqFP/",
      "include_colab_link": true
    },
    "kernelspec": {
      "name": "python3",
      "display_name": "Python 3"
    },
    "language_info": {
      "name": "python"
    }
  },
  "cells": [
    {
      "cell_type": "markdown",
      "metadata": {
        "id": "view-in-github",
        "colab_type": "text"
      },
      "source": [
        "<a href=\"https://colab.research.google.com/github/20250166/Homework/blob/main/20251009_6465.ipynb\" target=\"_parent\"><img src=\"https://colab.research.google.com/assets/colab-badge.svg\" alt=\"Open In Colab\"/></a>"
      ]
    },
    {
      "cell_type": "code",
      "execution_count": 1,
      "metadata": {
        "colab": {
          "base_uri": "https://localhost:8080/",
          "height": 36
        },
        "id": "D9hQEvZP6vZi",
        "outputId": "ef3b7eb9-7d4c-42d3-d34a-ce0fce6ddac7"
      },
      "outputs": [
        {
          "output_type": "execute_result",
          "data": {
            "text/plain": [
              "'064. 리스트에서 특정 위치 요소 추출 후 삭제: list: pop()'"
            ],
            "application/vnd.google.colaboratory.intrinsic+json": {
              "type": "string"
            }
          },
          "metadata": {},
          "execution_count": 1
        }
      ],
      "source": [
        "\"064. 리스트에서 특정 위치 요소 추출 후 삭제: list: pop()\""
      ]
    },
    {
      "cell_type": "code",
      "source": [
        "numbers = [14, 5, 18, 45, 10, 43]\n",
        "for _ in range(len(numbers)):\n",
        "  ret = numbers.pop()\n",
        "  print(f'pop()으로 추출된 값: {ret}, numbers = {numbers}')"
      ],
      "metadata": {
        "colab": {
          "base_uri": "https://localhost:8080/"
        },
        "id": "jyiY7OIi62TW",
        "outputId": "67d53e69-d86e-41f5-c8fb-853082eacd5b"
      },
      "execution_count": 3,
      "outputs": [
        {
          "output_type": "stream",
          "name": "stdout",
          "text": [
            "pop()으로 추출된 값: 43, numbers = [14, 5, 18, 45, 10]\n",
            "pop()으로 추출된 값: 10, numbers = [14, 5, 18, 45]\n",
            "pop()으로 추출된 값: 45, numbers = [14, 5, 18]\n",
            "pop()으로 추출된 값: 18, numbers = [14, 5]\n",
            "pop()으로 추출된 값: 5, numbers = [14]\n",
            "pop()으로 추출된 값: 14, numbers = []\n"
          ]
        }
      ]
    },
    {
      "cell_type": "code",
      "source": [
        "numbers = [14,5,18,45,10,43]\n",
        "ret = numbers.pop(3)\n",
        "print(f'pop()으로 추출된 값: {ret}, numbers = {numbers}')"
      ],
      "metadata": {
        "colab": {
          "base_uri": "https://localhost:8080/"
        },
        "id": "1GL0sc1u7LEz",
        "outputId": "5dc1d56f-009f-4a87-9164-25ebb3800a9d"
      },
      "execution_count": 4,
      "outputs": [
        {
          "output_type": "stream",
          "name": "stdout",
          "text": [
            "pop()으로 추출된 값: 45, numbers = [14, 5, 18, 10, 43]\n"
          ]
        }
      ]
    },
    {
      "cell_type": "code",
      "source": [
        "\"065. 리스트 요소를 역순으로 만들기: list.reverse()\""
      ],
      "metadata": {
        "colab": {
          "base_uri": "https://localhost:8080/",
          "height": 36
        },
        "id": "seRwvbim7ZoS",
        "outputId": "4aaf3f45-c820-458e-ba47-a1b5d446ab40"
      },
      "execution_count": 5,
      "outputs": [
        {
          "output_type": "execute_result",
          "data": {
            "text/plain": [
              "'065. 리스트 요소를 역순으로 만들기: list.reverse()'"
            ],
            "application/vnd.google.colaboratory.intrinsic+json": {
              "type": "string"
            }
          },
          "metadata": {},
          "execution_count": 5
        }
      ]
    },
    {
      "cell_type": "code",
      "source": [
        "numbers = [1,2,3,4,5]\n",
        "ret = reversed(numbers)\n",
        "print(list(ret))\n",
        "print(numbers)"
      ],
      "metadata": {
        "colab": {
          "base_uri": "https://localhost:8080/"
        },
        "id": "g85TujdZ7epV",
        "outputId": "19d9c0c3-bb4c-4d25-fad2-500ab9a15959"
      },
      "execution_count": 6,
      "outputs": [
        {
          "output_type": "stream",
          "name": "stdout",
          "text": [
            "[5, 4, 3, 2, 1]\n",
            "[1, 2, 3, 4, 5]\n"
          ]
        }
      ]
    },
    {
      "cell_type": "code",
      "source": [
        "numbers = [1,2,3,4,5]\n",
        "numbers.reverse()\n",
        "print(numbers)"
      ],
      "metadata": {
        "colab": {
          "base_uri": "https://localhost:8080/"
        },
        "id": "_k_TZ4K97mFK",
        "outputId": "9ec2b7c9-261c-4a41-a455-2f804701b19d"
      },
      "execution_count": 7,
      "outputs": [
        {
          "output_type": "stream",
          "name": "stdout",
          "text": [
            "[5, 4, 3, 2, 1]\n"
          ]
        }
      ]
    },
    {
      "cell_type": "code",
      "source": [],
      "metadata": {
        "id": "lgKBveah7qnU"
      },
      "execution_count": null,
      "outputs": []
    }
  ]
}
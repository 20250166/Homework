{
  "nbformat": 4,
  "nbformat_minor": 0,
  "metadata": {
    "colab": {
      "provenance": [],
      "authorship_tag": "ABX9TyOqrzSvbd3EqWeAtL6f75ur",
      "include_colab_link": true
    },
    "kernelspec": {
      "name": "python3",
      "display_name": "Python 3"
    },
    "language_info": {
      "name": "python"
    }
  },
  "cells": [
    {
      "cell_type": "markdown",
      "metadata": {
        "id": "view-in-github",
        "colab_type": "text"
      },
      "source": [
        "<a href=\"https://colab.research.google.com/github/20250166/Homework/blob/main/20251014_7475.ipynb\" target=\"_parent\"><img src=\"https://colab.research.google.com/assets/colab-badge.svg\" alt=\"Open In Colab\"/></a>"
      ]
    },
    {
      "cell_type": "code",
      "execution_count": null,
      "metadata": {
        "id": "OekrbhCOC3qg"
      },
      "outputs": [],
      "source": [
        "\"074. 코드값에 대응하는 문자 얻기: chr()\""
      ]
    },
    {
      "cell_type": "code",
      "source": [
        "while True:\n",
        "  code = input('0x로 시작하는 16진수 문자 코드값을 입력하세요[끝내려면 엔터를 치세요]: ')\n",
        "  if len(code) == 0:\n",
        "    break\n",
        "  unicode = int(code, 16)\n",
        "  try:\n",
        "    ch = chr(unicode)\n",
        "    print(f'--> 코드값: {code}, 문자: \"{ch}')\n",
        "  except ValueError:\n",
        "    print(f'코드값 {code}에 해당하는 문자가 존재하지 않습니다.')"
      ],
      "metadata": {
        "colab": {
          "base_uri": "https://localhost:8080/"
        },
        "id": "J6e9eKQfE_Ne",
        "outputId": "34902884-2821-4fe6-ae23-b40ce7d81a99"
      },
      "execution_count": 1,
      "outputs": [
        {
          "name": "stdout",
          "output_type": "stream",
          "text": [
            "0x로 시작하는 16진수 문자 코드값을 입력하세요[끝내려면 엔터를 치세요]: \n"
          ]
        }
      ]
    },
    {
      "cell_type": "code",
      "source": [
        "\"075. 이스케이프 문자\""
      ],
      "metadata": {
        "colab": {
          "base_uri": "https://localhost:8080/",
          "height": 36
        },
        "id": "CQydFjcHFhmV",
        "outputId": "721625b3-d7df-4a6c-c3f0-d49013432465"
      },
      "execution_count": 2,
      "outputs": [
        {
          "output_type": "execute_result",
          "data": {
            "text/plain": [
              "'075. 이스케이프 문자'"
            ],
            "application/vnd.google.colaboratory.intrinsic+json": {
              "type": "string"
            }
          },
          "metadata": {},
          "execution_count": 2
        }
      ]
    },
    {
      "cell_type": "code",
      "source": [
        "print('파이썬은 자바보다 쉽습니다. \\n 그래서 나는 파이썬을 사랑합니다.')"
      ],
      "metadata": {
        "colab": {
          "base_uri": "https://localhost:8080/"
        },
        "id": "WtA6f9IAFuH5",
        "outputId": "bfde4f34-0031-41fc-9b93-d7de157d3375"
      },
      "execution_count": 3,
      "outputs": [
        {
          "output_type": "stream",
          "name": "stdout",
          "text": [
            "파이썬은 자바보다 쉽습니다. \n",
            " 그래서 나는 파이썬을 사랑합니다.\n"
          ]
        }
      ]
    },
    {
      "cell_type": "code",
      "source": [
        "text = '파이썬은 자바보다 쉽습니다. \\\n",
        " 그래서 나는 파이썬을 사랑합니다.'\n",
        "print(text)"
      ],
      "metadata": {
        "colab": {
          "base_uri": "https://localhost:8080/"
        },
        "id": "zwyEq160FzV0",
        "outputId": "d6ab8d2f-5ae4-453e-ed2a-0bf600063205"
      },
      "execution_count": 5,
      "outputs": [
        {
          "output_type": "stream",
          "name": "stdout",
          "text": [
            "파이썬은 자바보다 쉽습니다.  그래서 나는 파이썬을 사랑합니다.\n"
          ]
        }
      ]
    },
    {
      "cell_type": "code",
      "source": [
        "print('이스케이프 문자 \"\\\\t\" 는 탭을 의미합니다.')"
      ],
      "metadata": {
        "colab": {
          "base_uri": "https://localhost:8080/"
        },
        "id": "CpJNs4cvF5QR",
        "outputId": "287dd3d3-f451-4609-b4d4-800363d169c0"
      },
      "execution_count": 6,
      "outputs": [
        {
          "output_type": "stream",
          "name": "stdout",
          "text": [
            "이스케이프 문자 \"\\t\" 는 탭을 의미합니다.\n"
          ]
        }
      ]
    },
    {
      "cell_type": "code",
      "source": [
        "print('\\'파이썬\\'은 뱀의 한 종류입니다.')"
      ],
      "metadata": {
        "colab": {
          "base_uri": "https://localhost:8080/"
        },
        "id": "fqM5Xdb-GAko",
        "outputId": "b1d39bfd-19b7-40ea-faea-0ec939db378f"
      },
      "execution_count": 7,
      "outputs": [
        {
          "output_type": "stream",
          "name": "stdout",
          "text": [
            "'파이썬'은 뱀의 한 종류입니다.\n"
          ]
        }
      ]
    },
    {
      "cell_type": "code",
      "source": [],
      "metadata": {
        "id": "oyJaCMHGGJOF"
      },
      "execution_count": null,
      "outputs": []
    }
  ]
}
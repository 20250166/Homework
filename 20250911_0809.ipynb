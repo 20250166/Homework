{
  "nbformat": 4,
  "nbformat_minor": 0,
  "metadata": {
    "colab": {
      "provenance": [],
      "authorship_tag": "ABX9TyM17CUmfHXuNCCnnCaMBEDj",
      "include_colab_link": true
    },
    "kernelspec": {
      "name": "python3",
      "display_name": "Python 3"
    },
    "language_info": {
      "name": "python"
    }
  },
  "cells": [
    {
      "cell_type": "markdown",
      "metadata": {
        "id": "view-in-github",
        "colab_type": "text"
      },
      "source": [
        "<a href=\"https://colab.research.google.com/github/20250166/Homework/blob/main/20250911_0809.ipynb\" target=\"_parent\"><img src=\"https://colab.research.google.com/assets/colab-badge.svg\" alt=\"Open In Colab\"/></a>"
      ]
    },
    {
      "cell_type": "code",
      "execution_count": null,
      "metadata": {
        "id": "0uyb5jOi9N5Q"
      },
      "outputs": [],
      "source": [
        "\"008.자료형 크기:len() // 자료형의 크기를 확인하는 방법에 대해 배운다.\""
      ]
    },
    {
      "cell_type": "code",
      "source": [
        "strData = 'I love you Python!'\n",
        "print(len(strData))"
      ],
      "metadata": {
        "colab": {
          "base_uri": "https://localhost:8080/"
        },
        "id": "TsJ4IfQW9Ww3",
        "outputId": "72329722-749d-4d38-81c4-36f94d6fbece"
      },
      "execution_count": 1,
      "outputs": [
        {
          "output_type": "stream",
          "name": "stdout",
          "text": [
            "18\n"
          ]
        }
      ]
    },
    {
      "cell_type": "code",
      "source": [
        "listData = [1,2,3,4,5]\n",
        "print(len(listData))"
      ],
      "metadata": {
        "colab": {
          "base_uri": "https://localhost:8080/"
        },
        "id": "Rxo8YsYS9eM6",
        "outputId": "7f328778-1e94-4893-8983-e4f69cb4ac3c"
      },
      "execution_count": 2,
      "outputs": [
        {
          "output_type": "stream",
          "name": "stdout",
          "text": [
            "5\n"
          ]
        }
      ]
    },
    {
      "cell_type": "code",
      "source": [
        "tupleData = ('a','bc','def')\n",
        "print(len(tupleData))"
      ],
      "metadata": {
        "colab": {
          "base_uri": "https://localhost:8080/"
        },
        "id": "2UxTQuLi9jil",
        "outputId": "53043806-5cb6-4a0f-de46-832e34b1cede"
      },
      "execution_count": 3,
      "outputs": [
        {
          "output_type": "stream",
          "name": "stdout",
          "text": [
            "3\n"
          ]
        }
      ]
    },
    {
      "cell_type": "code",
      "source": [
        "setData = {'cup','shoes','shirts','pants'}\n",
        "print(len(setData))"
      ],
      "metadata": {
        "colab": {
          "base_uri": "https://localhost:8080/"
        },
        "id": "2lK-pOWD9rfX",
        "outputId": "a47c37bd-fddf-4de0-8d66-3104db277173"
      },
      "execution_count": 4,
      "outputs": [
        {
          "output_type": "stream",
          "name": "stdout",
          "text": [
            "4\n"
          ]
        }
      ]
    },
    {
      "cell_type": "code",
      "source": [
        "dictData = {1:True,0:False}\n",
        "print(len(dictData))"
      ],
      "metadata": {
        "colab": {
          "base_uri": "https://localhost:8080/"
        },
        "id": "FCEKumTK9zdX",
        "outputId": "e00595dc-47bb-4029-c06b-50cec6cfe308"
      },
      "execution_count": 6,
      "outputs": [
        {
          "output_type": "stream",
          "name": "stdout",
          "text": [
            "2\n"
          ]
        }
      ]
    },
    {
      "cell_type": "code",
      "source": [
        "\"009.자료형 확인:type() // 변수의 자료형을 확인하는 방법에 대해 배운다.\""
      ],
      "metadata": {
        "id": "cQZaS4tw9370"
      },
      "execution_count": null,
      "outputs": []
    },
    {
      "cell_type": "code",
      "source": [
        "intData = 1\n",
        "print(type(intData))"
      ],
      "metadata": {
        "colab": {
          "base_uri": "https://localhost:8080/"
        },
        "id": "KG-KX6WG99xZ",
        "outputId": "5954582e-7525-451b-e232-79195dcb07e1"
      },
      "execution_count": 7,
      "outputs": [
        {
          "output_type": "stream",
          "name": "stdout",
          "text": [
            "<class 'int'>\n"
          ]
        }
      ]
    },
    {
      "cell_type": "code",
      "source": [
        "strData = 'I love python!'\n",
        "print(type(strData))"
      ],
      "metadata": {
        "colab": {
          "base_uri": "https://localhost:8080/"
        },
        "id": "6OggGhg2-B_D",
        "outputId": "3533dc9f-4d7a-438c-b925-759814606b00"
      },
      "execution_count": 8,
      "outputs": [
        {
          "output_type": "stream",
          "name": "stdout",
          "text": [
            "<class 'str'>\n"
          ]
        }
      ]
    }
  ]
}
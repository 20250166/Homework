{
  "nbformat": 4,
  "nbformat_minor": 0,
  "metadata": {
    "colab": {
      "provenance": [],
      "authorship_tag": "ABX9TyPvOVTb18Or1lolW9aL6jJa",
      "include_colab_link": true
    },
    "kernelspec": {
      "name": "python3",
      "display_name": "Python 3"
    },
    "language_info": {
      "name": "python"
    }
  },
  "cells": [
    {
      "cell_type": "markdown",
      "metadata": {
        "id": "view-in-github",
        "colab_type": "text"
      },
      "source": [
        "<a href=\"https://colab.research.google.com/github/20250166/Homework/blob/main/20250915_1819.ipynb\" target=\"_parent\"><img src=\"https://colab.research.google.com/assets/colab-badge.svg\" alt=\"Open In Colab\"/></a>"
      ]
    },
    {
      "cell_type": "code",
      "execution_count": 1,
      "metadata": {
        "colab": {
          "base_uri": "https://localhost:8080/",
          "height": 36
        },
        "id": "xmJ9So_KHkJ7",
        "outputId": "5e3b19a9-ad04-4939-a166-9de51a517eb8"
      },
      "outputs": [
        {
          "output_type": "execute_result",
          "data": {
            "text/plain": [
              "'018.while문: while~continue~break // 특정 조건이 만족하는 동안 코드를 반복 수행하게 하는 while문에 대해 배운다.'"
            ],
            "application/vnd.google.colaboratory.intrinsic+json": {
              "type": "string"
            }
          },
          "metadata": {},
          "execution_count": 1
        }
      ],
      "source": [
        "\"018.while문: while~continue~break // 특정 조건이 만족하는 동안 코드를 반복 수행하게 하는 while문에 대해 배운다.\""
      ]
    },
    {
      "cell_type": "code",
      "source": [
        "x = 0\n",
        "while x<10:\n",
        "  x = x+1\n",
        "  if x<3:\n",
        "    continue\n",
        "\n",
        "  print(x)\n",
        "  if x>4:\n",
        "    break"
      ],
      "metadata": {
        "colab": {
          "base_uri": "https://localhost:8080/"
        },
        "id": "O57gU9EJH05W",
        "outputId": "4b357e88-0d62-4bd7-aae6-8e237ead11e6"
      },
      "execution_count": 2,
      "outputs": [
        {
          "output_type": "stream",
          "name": "stdout",
          "text": [
            "3\n",
            "4\n",
            "5\n"
          ]
        }
      ]
    },
    {
      "cell_type": "code",
      "source": [
        "n = 1\n",
        "total = 0\n",
        "while True:\n",
        "  total = total+n\n",
        "  if total>100000:\n",
        "    print('1+2+...+n 값이 10만보다 커지게 되는 n:', n)\n",
        "    print('이 때 총합은', total)\n",
        "    break\n",
        "  n = n+1"
      ],
      "metadata": {
        "colab": {
          "base_uri": "https://localhost:8080/"
        },
        "id": "U7Bb7KO1IEa5",
        "outputId": "3d7b3b7a-08bd-4383-f66a-e81391ef2211"
      },
      "execution_count": 3,
      "outputs": [
        {
          "output_type": "stream",
          "name": "stdout",
          "text": [
            "1+2+...+n 값이 10만보다 커지게 되는 n: 447\n",
            "이 때 총합은 100128\n"
          ]
        }
      ]
    },
    {
      "cell_type": "code",
      "source": [
        "\"019.pass문 // 아무 행동도 하지 않는 pass문에 대해 배웁니다.\""
      ],
      "metadata": {
        "colab": {
          "base_uri": "https://localhost:8080/",
          "height": 36
        },
        "id": "ysaMLhd9Ih91",
        "outputId": "70c22a49-d68d-4be4-dd1d-a7b3ea6d5b7c"
      },
      "execution_count": 4,
      "outputs": [
        {
          "output_type": "execute_result",
          "data": {
            "text/plain": [
              "'019.pass문 // 아무 행동도 하지 않는 pass문에 대해 배웁니다.'"
            ],
            "application/vnd.google.colaboratory.intrinsic+json": {
              "type": "string"
            }
          },
          "metadata": {},
          "execution_count": 4
        }
      ]
    },
    {
      "cell_type": "code",
      "source": [
        "for sport in ['축구', '야구', '배구', '농구']:\n",
        "  if sport == '축구':\n",
        "    pass\n",
        "\n",
        "  if sport == '야구':\n",
        "    pass"
      ],
      "metadata": {
        "id": "iX7TVUoGIqZX"
      },
      "execution_count": 5,
      "outputs": []
    },
    {
      "cell_type": "code",
      "source": [
        "def getImageLink(url):\n",
        "  pass"
      ],
      "metadata": {
        "id": "dA1u3ev3I4hz"
      },
      "execution_count": 6,
      "outputs": []
    }
  ]
}

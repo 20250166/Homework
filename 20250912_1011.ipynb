{
  "nbformat": 4,
  "nbformat_minor": 0,
  "metadata": {
    "colab": {
      "provenance": [],
      "authorship_tag": "ABX9TyMqOXQLZAC+K1nyFlT/JyB+",
      "include_colab_link": true
    },
    "kernelspec": {
      "name": "python3",
      "display_name": "Python 3"
    },
    "language_info": {
      "name": "python"
    }
  },
  "cells": [
    {
      "cell_type": "markdown",
      "metadata": {
        "id": "view-in-github",
        "colab_type": "text"
      },
      "source": [
        "<a href=\"https://colab.research.google.com/github/20250166/Homework/blob/main/20250912_1011.ipynb\" target=\"_parent\"><img src=\"https://colab.research.google.com/assets/colab-badge.svg\" alt=\"Open In Colab\"/></a>"
      ]
    },
    {
      "cell_type": "code",
      "execution_count": null,
      "metadata": {
        "id": "GFn3oc4u-dcS"
      },
      "outputs": [],
      "source": [
        "\"010.타입 어노테이션(Type Annotation) // 코드의 가독성 및 유지보수 효율성을 위해 자료형에 대해 힌트를 알려주는 방법에 대해 배운다.\""
      ]
    },
    {
      "cell_type": "code",
      "source": [
        "name = '홍길동'\n",
        "age = 17\n",
        "weight = 70.7\n",
        "is_badman = False"
      ],
      "metadata": {
        "id": "tgxwYkeK-nXO"
      },
      "execution_count": null,
      "outputs": []
    },
    {
      "cell_type": "code",
      "source": [
        "name: str = '홍길동'\n",
        "age: int = 17\n",
        "weight: float = 70.7\n",
        "is_badman: bool = False"
      ],
      "metadata": {
        "id": "7q1TFUPj-uml"
      },
      "execution_count": 1,
      "outputs": []
    },
    {
      "cell_type": "code",
      "source": [
        "booklist: list[str] = ['삼국지', '수호지', '초한지']"
      ],
      "metadata": {
        "id": "LHgG24Hn-3iB"
      },
      "execution_count": 2,
      "outputs": []
    },
    {
      "cell_type": "code",
      "source": [
        "island: tuple[str, float, float] = ('독도', 131.52, 37.14)"
      ],
      "metadata": {
        "id": "vMCQ8lzQ--GS"
      },
      "execution_count": 3,
      "outputs": []
    },
    {
      "cell_type": "code",
      "source": [
        "top4_familyname: dict[str,int] = {'김씨':123456, '나씨':345811, '박씨':963123, '이씨' : 865909}"
      ],
      "metadata": {
        "id": "4T6TO3Es_FAY"
      },
      "execution_count": 4,
      "outputs": []
    },
    {
      "cell_type": "code",
      "source": [
        "fruits: set[str] = {'사과', '배', '수박', '참외', '딸기'}"
      ],
      "metadata": {
        "id": "YFbLhKk5_WHG"
      },
      "execution_count": 5,
      "outputs": []
    },
    {
      "cell_type": "code",
      "source": [
        "print(__annotations__)"
      ],
      "metadata": {
        "colab": {
          "base_uri": "https://localhost:8080/"
        },
        "id": "xkJsWJuU_eHI",
        "outputId": "2fc5e9d1-056d-46d0-def9-90f5814cbdbd"
      },
      "execution_count": 7,
      "outputs": [
        {
          "output_type": "stream",
          "name": "stdout",
          "text": [
            "{'name': <class 'str'>, 'age': <class 'int'>, 'weight': <class 'float'>, 'is_badman': <class 'bool'>, 'booklist': list[str], 'island': tuple[str, float, float], 'top4_familyname': dict[str, int], 'fruits': set[str]}\n"
          ]
        }
      ]
    },
    {
      "cell_type": "code",
      "source": [
        "fruits: set[str] = {'사과', '배', '수박', '참외', '딸기'}\n",
        "fruits = {1,2,3,4,5}\n",
        "print(fruits)"
      ],
      "metadata": {
        "colab": {
          "base_uri": "https://localhost:8080/"
        },
        "id": "WweUDUJr_gvL",
        "outputId": "40f9ac9e-a372-4929-b79b-aee86b19d38d"
      },
      "execution_count": 8,
      "outputs": [
        {
          "output_type": "stream",
          "name": "stdout",
          "text": [
            "{1, 2, 3, 4, 5}\n"
          ]
        }
      ]
    },
    {
      "cell_type": "code",
      "source": [
        "\"011.사용자 입력: input() // 사용자가 입력하는 값을 프로그랩에서 받는 방법을 배운다.\""
      ],
      "metadata": {
        "id": "WiJsjvfs_vd9"
      },
      "execution_count": null,
      "outputs": []
    },
    {
      "cell_type": "code",
      "source": [
        "userInput = input()\n",
        "print('사용자가 입력한 값은<' + userInput + '> 입니다.')"
      ],
      "metadata": {
        "colab": {
          "base_uri": "https://localhost:8080/"
        },
        "id": "HzqFdH4_AA2N",
        "outputId": "810c9bcf-db7d-4b21-e600-586fd3e18bd8"
      },
      "execution_count": 9,
      "outputs": [
        {
          "output_type": "stream",
          "name": "stdout",
          "text": [
            "hello\n",
            "사용자가 입력한 값은<hello> 입니다.\n"
          ]
        }
      ]
    },
    {
      "cell_type": "code",
      "source": [
        "unserInput = input('값을 입력하세요: ')\n",
        "print('사용자가 입력한 값은<' + userInput + '> 입니다.')"
      ],
      "metadata": {
        "colab": {
          "base_uri": "https://localhost:8080/"
        },
        "id": "g6_oP6FLAaZS",
        "outputId": "3b7bc1d3-22ea-47dc-860b-ae962b5c16b1"
      },
      "execution_count": 10,
      "outputs": [
        {
          "output_type": "stream",
          "name": "stdout",
          "text": [
            "값을 입력하세요: hello\n",
            "사용자가 입력한 값은<hello> 입니다.\n"
          ]
        }
      ]
    }
  ]
}
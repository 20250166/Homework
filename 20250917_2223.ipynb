{
  "nbformat": 4,
  "nbformat_minor": 0,
  "metadata": {
    "colab": {
      "provenance": [],
      "authorship_tag": "ABX9TyN+Fgd5/y/NERFDhX5uc8qO",
      "include_colab_link": true
    },
    "kernelspec": {
      "name": "python3",
      "display_name": "Python 3"
    },
    "language_info": {
      "name": "python"
    }
  },
  "cells": [
    {
      "cell_type": "markdown",
      "metadata": {
        "id": "view-in-github",
        "colab_type": "text"
      },
      "source": [
        "<a href=\"https://colab.research.google.com/github/20250166/Homework/blob/main/20250917_2223.ipynb\" target=\"_parent\"><img src=\"https://colab.research.google.com/assets/colab-badge.svg\" alt=\"Open In Colab\"/></a>"
      ]
    },
    {
      "cell_type": "code",
      "execution_count": 1,
      "metadata": {
        "colab": {
          "base_uri": "https://localhost:8080/",
          "height": 35
        },
        "id": "wlAfOb3tLADU",
        "outputId": "035e80f8-0a8a-4c95-c954-ae6a0bf079b8"
      },
      "outputs": [
        {
          "output_type": "execute_result",
          "data": {
            "text/plain": [
              "'022.연산자 축약: +=,-=,*=,/='"
            ],
            "application/vnd.google.colaboratory.intrinsic+json": {
              "type": "string"
            }
          },
          "metadata": {},
          "execution_count": 1
        }
      ],
      "source": [
        "\"022.연산자 축약: +=,-=,*=,/=\""
      ]
    },
    {
      "cell_type": "code",
      "source": [
        "a = 1\n",
        "\n",
        "a = a+1\n",
        "a =+ 1\n",
        "\n",
        "#축약 가능"
      ],
      "metadata": {
        "id": "Wla6dNpqLUgd"
      },
      "execution_count": 3,
      "outputs": []
    },
    {
      "cell_type": "code",
      "source": [
        "a -= 1 #a에서 1을 뺀 결과를 a에 할당\n",
        "a *= 2 #a와 2를 곱한 결과를 a에 할당\n",
        "a /= 2 #a에서 2를 나눈 결과를 a에 할당"
      ],
      "metadata": {
        "id": "x1nhiyzzLZwa"
      },
      "execution_count": 4,
      "outputs": []
    },
    {
      "cell_type": "code",
      "source": [
        "\"023.비교연산자: ==, !=, <, <=, >, >=\""
      ],
      "metadata": {
        "colab": {
          "base_uri": "https://localhost:8080/",
          "height": 35
        },
        "id": "zDHZ4YrRLqVO",
        "outputId": "b5fed001-74a8-4629-8152-b62fcc6e3316"
      },
      "execution_count": 5,
      "outputs": [
        {
          "output_type": "execute_result",
          "data": {
            "text/plain": [
              "'023.비교연산자: ==, !=, <, <=, >, >='"
            ],
            "application/vnd.google.colaboratory.intrinsic+json": {
              "type": "string"
            }
          },
          "metadata": {},
          "execution_count": 5
        }
      ]
    },
    {
      "cell_type": "code",
      "source": [
        "x = 1; y = 2\n",
        "strData1 = 'Hello'; strData2 = 'python'\n",
        "print(x == y)\n",
        "print(x != y)\n",
        "print(strData1 == strData2)\n",
        "print(strData1 == 'python')\n",
        "print(strData1 < strData2)"
      ],
      "metadata": {
        "colab": {
          "base_uri": "https://localhost:8080/"
        },
        "id": "D93M3HmHLwfR",
        "outputId": "ec2aa25c-a78f-491d-f9a8-6e1b83371a55"
      },
      "execution_count": 6,
      "outputs": [
        {
          "output_type": "stream",
          "name": "stdout",
          "text": [
            "False\n",
            "True\n",
            "False\n",
            "False\n",
            "True\n"
          ]
        }
      ]
    }
  ]
}
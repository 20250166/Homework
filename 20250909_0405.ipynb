{
  "cells": [
    {
      "cell_type": "markdown",
      "metadata": {
        "id": "view-in-github",
        "colab_type": "text"
      },
      "source": [
        "<a href=\"https://colab.research.google.com/github/20250166/Homework/blob/main/20250909_0405.ipynb\" target=\"_parent\"><img src=\"https://colab.research.google.com/assets/colab-badge.svg\" alt=\"Open In Colab\"/></a>"
      ]
    },
    {
      "cell_type": "code",
      "source": [
        "\"004.변수 // 어떤 값을 임시로 저장하는 변수명에 대한 규칙과 할당연산자 '='에 대해 배운다.\""
      ],
      "metadata": {
        "colab": {
          "base_uri": "https://localhost:8080/",
          "height": 36
        },
        "id": "563rFgqps75c",
        "outputId": "5a82a584-4c37-493d-b4af-0714b837e614"
      },
      "execution_count": 1,
      "outputs": [
        {
          "output_type": "execute_result",
          "data": {
            "text/plain": [
              "\"004.변수 // 어떤 값을 임시로 저장하는 변수명에 대한 규칙과 할당연산자 '='에 대해 배운다.\""
            ],
            "application/vnd.google.colaboratory.intrinsic+json": {
              "type": "string"
            }
          },
          "metadata": {},
          "execution_count": 1
        }
      ]
    },
    {
      "cell_type": "code",
      "source": [
        "_myname = 'samsjang'\n",
        "my_name = '홍길동'\n",
        "MyName3 = 'Hong gil-dong'\n",
        "country = '대한민국'"
      ],
      "metadata": {
        "id": "EY6vhwQvuwns"
      },
      "execution_count": 2,
      "outputs": []
    },
    {
      "cell_type": "code",
      "source": [
        "1_str = '안녕하세요 파이썬!'\n",
        "File \"<stdin>\", line1\n",
        "  1_str = '안녕하세요 파이썬!'\n",
        "\n",
        "#특수 기호, 알파벳, 숫자, 밑줄 문자 변수 첫글자로 사용 불가능"
      ],
      "metadata": {
        "colab": {
          "base_uri": "https://localhost:8080/",
          "height": 112
        },
        "id": "1nIn_TWFvPHs",
        "outputId": "810232a1-6c34-47cd-ee71-7453fd2a4896"
      },
      "execution_count": 7,
      "outputs": [
        {
          "output_type": "error",
          "ename": "SyntaxError",
          "evalue": "invalid decimal literal (ipython-input-1957021636.py, line 1)",
          "traceback": [
            "\u001b[0;36m  File \u001b[0;32m\"/tmp/ipython-input-1957021636.py\"\u001b[0;36m, line \u001b[0;32m1\u001b[0m\n\u001b[0;31m    1_str = '안녕하세요 파이썬!'\u001b[0m\n\u001b[0m     ^\u001b[0m\n\u001b[0;31mSyntaxError\u001b[0m\u001b[0;31m:\u001b[0m invalid decimal literal\n"
          ]
        }
      ]
    },
    {
      "cell_type": "code",
      "source": [
        "_%var = 'Temp Variables'\n",
        "@address = 'samsjang@naver.com'\n",
        "\n",
        "# 특수 기호 변수명으로 사용 X"
      ],
      "metadata": {
        "colab": {
          "base_uri": "https://localhost:8080/",
          "height": 112
        },
        "id": "FVlXCRe9voaT",
        "outputId": "c3737b25-11d3-4b7a-ddc8-d4ad7835465e"
      },
      "execution_count": 8,
      "outputs": [
        {
          "output_type": "error",
          "ename": "SyntaxError",
          "evalue": "cannot assign to expression here. Maybe you meant '==' instead of '='? (ipython-input-904593571.py, line 1)",
          "traceback": [
            "\u001b[0;36m  File \u001b[0;32m\"/tmp/ipython-input-904593571.py\"\u001b[0;36m, line \u001b[0;32m1\u001b[0m\n\u001b[0;31m    _%var = 'Temp Variables'\u001b[0m\n\u001b[0m    ^\u001b[0m\n\u001b[0;31mSyntaxError\u001b[0m\u001b[0;31m:\u001b[0m cannot assign to expression here. Maybe you meant '==' instead of '='?\n"
          ]
        }
      ]
    },
    {
      "cell_type": "code",
      "source": [
        "counter = 1\n",
        "Counter = 2\n",
        "\n",
        "#counter과 다른 변수!"
      ],
      "metadata": {
        "id": "xOG5G1D6v01M"
      },
      "execution_count": 5,
      "outputs": []
    },
    {
      "cell_type": "code",
      "source": [
        "and = 1\n",
        "File\"<stdin>\", line 1\n",
        "and = 1\n",
        "\n",
        "#파이썬 예약어 변수명 사용 불가능"
      ],
      "metadata": {
        "colab": {
          "base_uri": "https://localhost:8080/",
          "height": 112
        },
        "id": "KzLg02GpwI3d",
        "outputId": "ee1bc030-4b4a-4c5a-e01d-b196d946dcf6"
      },
      "execution_count": 6,
      "outputs": [
        {
          "output_type": "error",
          "ename": "SyntaxError",
          "evalue": "invalid syntax (ipython-input-3522159692.py, line 1)",
          "traceback": [
            "\u001b[0;36m  File \u001b[0;32m\"/tmp/ipython-input-3522159692.py\"\u001b[0;36m, line \u001b[0;32m1\u001b[0m\n\u001b[0;31m    and = 1\u001b[0m\n\u001b[0m    ^\u001b[0m\n\u001b[0;31mSyntaxError\u001b[0m\u001b[0;31m:\u001b[0m invalid syntax\n"
          ]
        }
      ]
    },
    {
      "cell_type": "code",
      "source": [
        "import keyword\n",
        "keyword.kwlist"
      ],
      "metadata": {
        "colab": {
          "base_uri": "https://localhost:8080/"
        },
        "id": "g6Tw9Kcw1HYc",
        "outputId": "5fc361b6-0efe-40f6-81dc-83ad0254aa5d"
      },
      "execution_count": 9,
      "outputs": [
        {
          "output_type": "execute_result",
          "data": {
            "text/plain": [
              "['False',\n",
              " 'None',\n",
              " 'True',\n",
              " 'and',\n",
              " 'as',\n",
              " 'assert',\n",
              " 'async',\n",
              " 'await',\n",
              " 'break',\n",
              " 'class',\n",
              " 'continue',\n",
              " 'def',\n",
              " 'del',\n",
              " 'elif',\n",
              " 'else',\n",
              " 'except',\n",
              " 'finally',\n",
              " 'for',\n",
              " 'from',\n",
              " 'global',\n",
              " 'if',\n",
              " 'import',\n",
              " 'in',\n",
              " 'is',\n",
              " 'lambda',\n",
              " 'nonlocal',\n",
              " 'not',\n",
              " 'or',\n",
              " 'pass',\n",
              " 'raise',\n",
              " 'return',\n",
              " 'try',\n",
              " 'while',\n",
              " 'with',\n",
              " 'yield']"
            ]
          },
          "metadata": {},
          "execution_count": 9
        }
      ]
    },
    {
      "cell_type": "code",
      "source": [
        "abs = 1\n",
        "abs(-1)\n",
        "\n",
        "#변수명으로 사용된 abs를 함수로 호출 불가능"
      ],
      "metadata": {
        "colab": {
          "base_uri": "https://localhost:8080/",
          "height": 168
        },
        "id": "4QT2InY51Ofp",
        "outputId": "e1211b88-67d5-4524-b7e3-9183b5ba6ec6"
      },
      "execution_count": 10,
      "outputs": [
        {
          "output_type": "error",
          "ename": "TypeError",
          "evalue": "'int' object is not callable",
          "traceback": [
            "\u001b[0;31m---------------------------------------------------------------------------\u001b[0m",
            "\u001b[0;31mTypeError\u001b[0m                                 Traceback (most recent call last)",
            "\u001b[0;32m/tmp/ipython-input-2354836112.py\u001b[0m in \u001b[0;36m<cell line: 0>\u001b[0;34m()\u001b[0m\n\u001b[1;32m      1\u001b[0m \u001b[0mabs\u001b[0m \u001b[0;34m=\u001b[0m \u001b[0;36m1\u001b[0m\u001b[0;34m\u001b[0m\u001b[0;34m\u001b[0m\u001b[0m\n\u001b[0;32m----> 2\u001b[0;31m \u001b[0mabs\u001b[0m\u001b[0;34m(\u001b[0m\u001b[0;34m-\u001b[0m\u001b[0;36m1\u001b[0m\u001b[0;34m)\u001b[0m\u001b[0;34m\u001b[0m\u001b[0;34m\u001b[0m\u001b[0m\n\u001b[0m",
            "\u001b[0;31mTypeError\u001b[0m: 'int' object is not callable"
          ]
        }
      ]
    },
    {
      "cell_type": "code",
      "source": [
        "intData = 1 #정수 자료\n",
        "pi = 3.14 #실수 자료\n",
        "flag = True #불리언(boolean) 자료"
      ],
      "metadata": {
        "id": "9TogB2q11W6d"
      },
      "execution_count": 15,
      "outputs": []
    },
    {
      "cell_type": "code",
      "source": [
        "ch = 'x'\n",
        "strData = '사랑해요 파이썬!'\n",
        "\n",
        "#문자 변수 할당 / 문자열 변수 할당해 자료로 만들 수 있음"
      ],
      "metadata": {
        "id": "49PrYg661nZh"
      },
      "execution_count": 14,
      "outputs": []
    },
    {
      "cell_type": "code",
      "source": [
        "buffer = 1 #buffer에 정수 1을 할당. buffer은 정수 데이터.\n",
        "buffer + 2\n",
        "print(buffer)\n",
        "\n",
        "buffer = 'three' #buffer에 문자열 three를 할당. buffer은 문자 데이터.\n",
        "buffer\n",
        "print(buffer)"
      ],
      "metadata": {
        "colab": {
          "base_uri": "https://localhost:8080/"
        },
        "id": "QQH9b1xP2PVx",
        "outputId": "7f7b7db3-c7a0-488f-e553-3fe066e77010"
      },
      "execution_count": 17,
      "outputs": [
        {
          "output_type": "stream",
          "name": "stdout",
          "text": [
            "1\n",
            "three\n"
          ]
        }
      ]
    },
    {
      "cell_type": "code",
      "source": [
        "\"005.주석 처리하기 // 코드가 아닌 부분을 표시하는 주석 처리 방법에 대해 배운다.\""
      ],
      "metadata": {
        "colab": {
          "base_uri": "https://localhost:8080/",
          "height": 36
        },
        "id": "2KmvuPCX2i1s",
        "outputId": "b831a5c9-1cd9-4e25-bb15-067f6546d91d"
      },
      "execution_count": 18,
      "outputs": [
        {
          "output_type": "execute_result",
          "data": {
            "text/plain": [
              "'005.주석 처리하기 // 코드가 아닌 부분을 표시하는 주석 처리 방법에 대해 배운다.'"
            ],
            "application/vnd.google.colaboratory.intrinsic+json": {
              "type": "string"
            }
          },
          "metadata": {},
          "execution_count": 18
        }
      ]
    },
    {
      "cell_type": "code",
      "source": [
        "#주석처리 예시\n",
        "#이건 한참 전에 배웠지롱\n",
        "\n",
        "a = 1 #a에 1을 할당\n",
        "b = 5 #a에 5를 할당\n",
        "print(a + b) #a + b의 값을 출력"
      ],
      "metadata": {
        "colab": {
          "base_uri": "https://localhost:8080/"
        },
        "id": "-SYCsClb2rPP",
        "outputId": "383ec478-0b00-49f2-e9c2-3485efb2fef1"
      },
      "execution_count": 19,
      "outputs": [
        {
          "output_type": "stream",
          "name": "stdout",
          "text": [
            "6\n"
          ]
        }
      ]
    },
    {
      "cell_type": "code",
      "source": [
        "comment = 'Result ='\n",
        "\n",
        "# 삼중 따옴표로 특정 영역 주석 처리 예시\n",
        "\n",
        "\"\"\"a = 1\n",
        "b = 100\n",
        "print(a + b)\"\"\"\n",
        "\n",
        "a = 5\n",
        "b = 50\n",
        "\n",
        "print (comment,a+b)\n",
        "\n",
        "# a = 5 이후부터 유효한 코드"
      ],
      "metadata": {
        "colab": {
          "base_uri": "https://localhost:8080/"
        },
        "id": "PQqeXkmj27wk",
        "outputId": "da75ac6a-308c-4faa-baca-7440c4793d32"
      },
      "execution_count": 20,
      "outputs": [
        {
          "output_type": "stream",
          "name": "stdout",
          "text": [
            "Result = 55\n"
          ]
        }
      ]
    }
  ],
  "metadata": {
    "colab": {
      "name": "Colab 시작하기",
      "toc_visible": true,
      "provenance": [],
      "include_colab_link": true
    },
    "kernelspec": {
      "display_name": "Python 3",
      "name": "python3"
    }
  },
  "nbformat": 4,
  "nbformat_minor": 0
}
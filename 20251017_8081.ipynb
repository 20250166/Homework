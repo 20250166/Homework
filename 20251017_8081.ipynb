{
  "nbformat": 4,
  "nbformat_minor": 0,
  "metadata": {
    "colab": {
      "provenance": [],
      "authorship_tag": "ABX9TyMbHeiYY3Am95pAAhFs9Cb3",
      "include_colab_link": true
    },
    "kernelspec": {
      "name": "python3",
      "display_name": "Python 3"
    },
    "language_info": {
      "name": "python"
    }
  },
  "cells": [
    {
      "cell_type": "markdown",
      "metadata": {
        "id": "view-in-github",
        "colab_type": "text"
      },
      "source": [
        "<a href=\"https://colab.research.google.com/github/20250166/Homework/blob/main/20251017_8081.ipynb\" target=\"_parent\"><img src=\"https://colab.research.google.com/assets/colab-badge.svg\" alt=\"Open In Colab\"/></a>"
      ]
    },
    {
      "cell_type": "code",
      "execution_count": 1,
      "metadata": {
        "colab": {
          "base_uri": "https://localhost:8080/",
          "height": 36
        },
        "id": "a13GDcb7nVLW",
        "outputId": "b49b8762-b8d1-4f37-a34e-18afd9a9bc74"
      },
      "outputs": [
        {
          "output_type": "execute_result",
          "data": {
            "text/plain": [
              "'080. 문자열이 숫자로만 구성되어있는지 확인: str, isdecimal(), str.isdigit(), str.isnumeric()'"
            ],
            "application/vnd.google.colaboratory.intrinsic+json": {
              "type": "string"
            }
          },
          "metadata": {},
          "execution_count": 1
        }
      ],
      "source": [
        "\"080. 문자열이 숫자로만 구성되어있는지 확인: str, isdecimal(), str.isdigit(), str.isnumeric()\""
      ]
    },
    {
      "cell_type": "code",
      "source": [
        "numbers = ['1004', '-1', '3.14', 'IX', '7/8', '5²', '50%']"
      ],
      "metadata": {
        "id": "bKDlofzCndQ0"
      },
      "execution_count": 2,
      "outputs": []
    },
    {
      "cell_type": "code",
      "source": [
        "for number in numbers:\n",
        "  print(f'\"{number}\" \\t --> {number.isdecimal()}')"
      ],
      "metadata": {
        "colab": {
          "base_uri": "https://localhost:8080/"
        },
        "id": "eCn4P5h8nuGb",
        "outputId": "fb78a277-9387-4983-9ad2-4952ea54f942"
      },
      "execution_count": 3,
      "outputs": [
        {
          "output_type": "stream",
          "name": "stdout",
          "text": [
            "\"1004\" \t --> True\n",
            "\"-1\" \t --> False\n",
            "\"3.14\" \t --> False\n",
            "\"IX\" \t --> False\n",
            "\"7/8\" \t --> False\n",
            "\"5²\" \t --> False\n",
            "\"50%\" \t --> False\n"
          ]
        }
      ]
    },
    {
      "cell_type": "code",
      "source": [
        "for number in numbers:\n",
        "  print(f'\"{number}\" \\t --> {number.isdigit()}')"
      ],
      "metadata": {
        "colab": {
          "base_uri": "https://localhost:8080/"
        },
        "id": "F-5zwr_dn6G4",
        "outputId": "3c0ff0ff-7acf-4629-a1d1-5bd40fee72f2"
      },
      "execution_count": 5,
      "outputs": [
        {
          "output_type": "stream",
          "name": "stdout",
          "text": [
            "\"1004\" \t --> True\n",
            "\"-1\" \t --> False\n",
            "\"3.14\" \t --> False\n",
            "\"IX\" \t --> False\n",
            "\"7/8\" \t --> False\n",
            "\"5²\" \t --> True\n",
            "\"50%\" \t --> False\n"
          ]
        }
      ]
    },
    {
      "cell_type": "code",
      "source": [
        "for number in numbers:\n",
        "  print(f'\"{number}\" \\t --> {number.isnumeric()}')"
      ],
      "metadata": {
        "colab": {
          "base_uri": "https://localhost:8080/"
        },
        "id": "8CSduzgsoDkQ",
        "outputId": "f6d4503d-4053-4919-a32c-81fb74af1367"
      },
      "execution_count": 6,
      "outputs": [
        {
          "output_type": "stream",
          "name": "stdout",
          "text": [
            "\"1004\" \t --> True\n",
            "\"-1\" \t --> False\n",
            "\"3.14\" \t --> False\n",
            "\"IX\" \t --> False\n",
            "\"7/8\" \t --> False\n",
            "\"5²\" \t --> True\n",
            "\"50%\" \t --> False\n"
          ]
        }
      ]
    },
    {
      "cell_type": "code",
      "source": [
        "\"081. 문자열로 리스트 요소 연결하기: str.join()\""
      ],
      "metadata": {
        "colab": {
          "base_uri": "https://localhost:8080/",
          "height": 36
        },
        "id": "v5uBczEgoP3g",
        "outputId": "bc8474c0-4dc0-458c-c063-33d134ae5075"
      },
      "execution_count": 7,
      "outputs": [
        {
          "output_type": "execute_result",
          "data": {
            "text/plain": [
              "'081. 문자열로 리스트 요소 연결하기: str.join()'"
            ],
            "application/vnd.google.colaboratory.intrinsic+json": {
              "type": "string"
            }
          },
          "metadata": {},
          "execution_count": 7
        }
      ]
    },
    {
      "cell_type": "code",
      "source": [
        "profile = ['홍길동', '남자', '18세', '도적', '초능력자']\n",
        "logData = ';'.join(profile)\n",
        "print(logData)"
      ],
      "metadata": {
        "colab": {
          "base_uri": "https://localhost:8080/"
        },
        "id": "i15hu8zAoUog",
        "outputId": "fe12847a-96a4-4363-f636-407c6e5b345d"
      },
      "execution_count": 8,
      "outputs": [
        {
          "output_type": "stream",
          "name": "stdout",
          "text": [
            "홍길동;남자;18세;도적;초능력자\n"
          ]
        }
      ]
    },
    {
      "cell_type": "code",
      "source": [
        "profile = ['홍길동', '남자', 18, '도적', '초능력자']\n",
        "logData = ';'.join(profile)"
      ],
      "metadata": {
        "colab": {
          "base_uri": "https://localhost:8080/",
          "height": 169
        },
        "id": "kCONrCjaof3-",
        "outputId": "7d41c35d-dc23-44e5-ad54-9ea8c3810f7a"
      },
      "execution_count": 9,
      "outputs": [
        {
          "output_type": "error",
          "ename": "TypeError",
          "evalue": "sequence item 2: expected str instance, int found",
          "traceback": [
            "\u001b[0;31m---------------------------------------------------------------------------\u001b[0m",
            "\u001b[0;31mTypeError\u001b[0m                                 Traceback (most recent call last)",
            "\u001b[0;32m/tmp/ipython-input-926716165.py\u001b[0m in \u001b[0;36m<cell line: 0>\u001b[0;34m()\u001b[0m\n\u001b[1;32m      1\u001b[0m \u001b[0mprofile\u001b[0m \u001b[0;34m=\u001b[0m \u001b[0;34m[\u001b[0m\u001b[0;34m'홍길동'\u001b[0m\u001b[0;34m,\u001b[0m \u001b[0;34m'남자'\u001b[0m\u001b[0;34m,\u001b[0m \u001b[0;36m18\u001b[0m\u001b[0;34m,\u001b[0m \u001b[0;34m'도적'\u001b[0m\u001b[0;34m,\u001b[0m \u001b[0;34m'초능력자'\u001b[0m\u001b[0;34m]\u001b[0m\u001b[0;34m\u001b[0m\u001b[0;34m\u001b[0m\u001b[0m\n\u001b[0;32m----> 2\u001b[0;31m \u001b[0mlogData\u001b[0m \u001b[0;34m=\u001b[0m \u001b[0;34m';'\u001b[0m\u001b[0;34m.\u001b[0m\u001b[0mjoin\u001b[0m\u001b[0;34m(\u001b[0m\u001b[0mprofile\u001b[0m\u001b[0;34m)\u001b[0m\u001b[0;34m\u001b[0m\u001b[0;34m\u001b[0m\u001b[0m\n\u001b[0m",
            "\u001b[0;31mTypeError\u001b[0m: sequence item 2: expected str instance, int found"
          ]
        }
      ]
    },
    {
      "cell_type": "code",
      "source": [],
      "metadata": {
        "id": "UdbaCZjKomtA"
      },
      "execution_count": null,
      "outputs": []
    }
  ]
}
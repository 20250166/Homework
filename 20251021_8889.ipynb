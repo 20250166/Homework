{
  "nbformat": 4,
  "nbformat_minor": 0,
  "metadata": {
    "colab": {
      "provenance": [],
      "authorship_tag": "ABX9TyOR/WJvEMpytP6fSyl6SK2+",
      "include_colab_link": true
    },
    "kernelspec": {
      "name": "python3",
      "display_name": "Python 3"
    },
    "language_info": {
      "name": "python"
    }
  },
  "cells": [
    {
      "cell_type": "markdown",
      "metadata": {
        "id": "view-in-github",
        "colab_type": "text"
      },
      "source": [
        "<a href=\"https://colab.research.google.com/github/20250166/Homework/blob/main/20251021_8889.ipynb\" target=\"_parent\"><img src=\"https://colab.research.google.com/assets/colab-badge.svg\" alt=\"Open In Colab\"/></a>"
      ]
    },
    {
      "cell_type": "code",
      "execution_count": 1,
      "metadata": {
        "colab": {
          "base_uri": "https://localhost:8080/",
          "height": 36
        },
        "id": "86GBeQ0CseNH",
        "outputId": "75a8611d-fbdc-433c-853f-23a1406c9ab2"
      },
      "outputs": [
        {
          "output_type": "execute_result",
          "data": {
            "text/plain": [
              "\"088. 문자열 정렬하기: sorted(), ''.join()\""
            ],
            "application/vnd.google.colaboratory.intrinsic+json": {
              "type": "string"
            }
          },
          "metadata": {},
          "execution_count": 1
        }
      ],
      "source": [
        "\"088. 문자열 정렬하기: sorted(), ''.join()\""
      ]
    },
    {
      "cell_type": "code",
      "source": [
        "randstr = 'nk315nnkakkavnzrit'\n",
        "ret = sorted(randstr)\n",
        "print(ret)"
      ],
      "metadata": {
        "colab": {
          "base_uri": "https://localhost:8080/"
        },
        "id": "ZZyKbhn0smjw",
        "outputId": "9f83c003-d829-4fa5-af99-aff2bb3dd3a9"
      },
      "execution_count": 2,
      "outputs": [
        {
          "output_type": "stream",
          "name": "stdout",
          "text": [
            "['1', '3', '5', 'a', 'a', 'i', 'k', 'k', 'k', 'k', 'n', 'n', 'n', 'n', 'r', 't', 'v', 'z']\n"
          ]
        }
      ]
    },
    {
      "cell_type": "code",
      "source": [
        "final = ''.join(ret)\n",
        "print(final)"
      ],
      "metadata": {
        "colab": {
          "base_uri": "https://localhost:8080/"
        },
        "id": "vHZ3btLksuSs",
        "outputId": "78080d2c-9a41-47ac-ca4d-e68e6334982c"
      },
      "execution_count": 3,
      "outputs": [
        {
          "output_type": "stream",
          "name": "stdout",
          "text": [
            "135aaikkkknnnnrtvz\n"
          ]
        }
      ]
    },
    {
      "cell_type": "code",
      "source": [
        "\"089. 문자열로 된 식 실행하기: eval()\""
      ],
      "metadata": {
        "colab": {
          "base_uri": "https://localhost:8080/",
          "height": 36
        },
        "id": "ag5SaKPAsx78",
        "outputId": "7bc8a610-2b14-4e80-b8f3-745bd2e22175"
      },
      "execution_count": 4,
      "outputs": [
        {
          "output_type": "execute_result",
          "data": {
            "text/plain": [
              "'089. 문자열로 된 식 실행하기: eval()'"
            ],
            "application/vnd.google.colaboratory.intrinsic+json": {
              "type": "string"
            }
          },
          "metadata": {},
          "execution_count": 4
        }
      ]
    },
    {
      "cell_type": "code",
      "source": [
        "expression = '123+456'\n",
        "answer = eval(expression)\n",
        "print(f'{expression} = {answer}')"
      ],
      "metadata": {
        "colab": {
          "base_uri": "https://localhost:8080/"
        },
        "id": "iRtD3JOIs1BT",
        "outputId": "46121917-7566-459c-b4ac-5012be21dd37"
      },
      "execution_count": 5,
      "outputs": [
        {
          "output_type": "stream",
          "name": "stdout",
          "text": [
            "123+456 = 579\n"
          ]
        }
      ]
    },
    {
      "cell_type": "code",
      "source": [
        "expression = 'round(3.14)'\n",
        "print(f'{expression} = {eval(expression)}')"
      ],
      "metadata": {
        "colab": {
          "base_uri": "https://localhost:8080/"
        },
        "id": "BcgDScw2s9iv",
        "outputId": "ed853310-3c13-4cb9-a064-637fe7f603c8"
      },
      "execution_count": 6,
      "outputs": [
        {
          "output_type": "stream",
          "name": "stdout",
          "text": [
            "round(3.14) = 3\n"
          ]
        }
      ]
    },
    {
      "cell_type": "code",
      "source": [
        "ret = eval('안녕하세요')"
      ],
      "metadata": {
        "colab": {
          "base_uri": "https://localhost:8080/",
          "height": 188
        },
        "id": "GiZMR5JmtFp2",
        "outputId": "ec9c365b-fd12-4c99-a553-6eaf407f0656"
      },
      "execution_count": 7,
      "outputs": [
        {
          "output_type": "error",
          "ename": "NameError",
          "evalue": "name '안녕하세요' is not defined",
          "traceback": [
            "\u001b[0;31m---------------------------------------------------------------------------\u001b[0m",
            "\u001b[0;31mNameError\u001b[0m                                 Traceback (most recent call last)",
            "\u001b[0;32m/tmp/ipython-input-4215630329.py\u001b[0m in \u001b[0;36m<cell line: 0>\u001b[0;34m()\u001b[0m\n\u001b[0;32m----> 1\u001b[0;31m \u001b[0mret\u001b[0m \u001b[0;34m=\u001b[0m \u001b[0meval\u001b[0m\u001b[0;34m(\u001b[0m\u001b[0;34m'안녕하세요'\u001b[0m\u001b[0;34m)\u001b[0m\u001b[0;34m\u001b[0m\u001b[0;34m\u001b[0m\u001b[0m\n\u001b[0m",
            "\u001b[0;32m<string>\u001b[0m in \u001b[0;36m<module>\u001b[0;34m\u001b[0m\n",
            "\u001b[0;31mNameError\u001b[0m: name '안녕하세요' is not defined"
          ]
        }
      ]
    },
    {
      "cell_type": "code",
      "source": [],
      "metadata": {
        "id": "yRHU1vyxtHH5"
      },
      "execution_count": null,
      "outputs": []
    }
  ]
}
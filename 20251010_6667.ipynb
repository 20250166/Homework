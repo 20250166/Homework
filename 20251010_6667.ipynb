{
  "nbformat": 4,
  "nbformat_minor": 0,
  "metadata": {
    "colab": {
      "provenance": [],
      "authorship_tag": "ABX9TyNH7hFl8DgYG/wCqyPkKBR+",
      "include_colab_link": true
    },
    "kernelspec": {
      "name": "python3",
      "display_name": "Python 3"
    },
    "language_info": {
      "name": "python"
    }
  },
  "cells": [
    {
      "cell_type": "markdown",
      "metadata": {
        "id": "view-in-github",
        "colab_type": "text"
      },
      "source": [
        "<a href=\"https://colab.research.google.com/github/20250166/Homework/blob/main/20251010_6667.ipynb\" target=\"_parent\"><img src=\"https://colab.research.google.com/assets/colab-badge.svg\" alt=\"Open In Colab\"/></a>"
      ]
    },
    {
      "cell_type": "code",
      "execution_count": 1,
      "metadata": {
        "colab": {
          "base_uri": "https://localhost:8080/",
          "height": 36
        },
        "id": "_KjqC9ym7zPS",
        "outputId": "bc1c00bc-ffbc-4f4a-e3c1-35c045dcd400"
      },
      "outputs": [
        {
          "output_type": "execute_result",
          "data": {
            "text/plain": [
              "'066. 리스트 요소 정렬: list.sort()'"
            ],
            "application/vnd.google.colaboratory.intrinsic+json": {
              "type": "string"
            }
          },
          "metadata": {},
          "execution_count": 1
        }
      ],
      "source": [
        "\"066. 리스트 요소 정렬: list.sort()\""
      ]
    },
    {
      "cell_type": "code",
      "source": [
        "nameList = ['Mary', 'Sams', 'Aemy', 'Tom', 'Michale', 'Bob', 'Kelly']\n",
        "nameList.sort()\n",
        "print(nameList)"
      ],
      "metadata": {
        "colab": {
          "base_uri": "https://localhost:8080/"
        },
        "id": "psAawEX3737N",
        "outputId": "b012a387-5890-4c01-9e7c-b913b22f0ae0"
      },
      "execution_count": 2,
      "outputs": [
        {
          "output_type": "stream",
          "name": "stdout",
          "text": [
            "['Aemy', 'Bob', 'Kelly', 'Mary', 'Michale', 'Sams', 'Tom']\n"
          ]
        }
      ]
    },
    {
      "cell_type": "code",
      "source": [
        "nameList = ['Mary', 'Sams', 'Aemy', 'Tom', 'Michale', 'Bob', 'Kelly']\n",
        "nameList.sort(reverse = True)\n",
        "print(nameList)"
      ],
      "metadata": {
        "colab": {
          "base_uri": "https://localhost:8080/"
        },
        "id": "gsxrDnR28D0o",
        "outputId": "827c476b-6473-451f-cc53-6261c471f452"
      },
      "execution_count": 3,
      "outputs": [
        {
          "output_type": "stream",
          "name": "stdout",
          "text": [
            "['Tom', 'Sams', 'Michale', 'Mary', 'Kelly', 'Bob', 'Aemy']\n"
          ]
        }
      ]
    },
    {
      "cell_type": "code",
      "source": [
        "\"067. 리스트 요소 무작위로 섞기: random.shuffle()\""
      ],
      "metadata": {
        "colab": {
          "base_uri": "https://localhost:8080/",
          "height": 36
        },
        "id": "VnqI3Zrr8HTH",
        "outputId": "5c840722-d8d0-4a11-fa64-ae59a7869ae9"
      },
      "execution_count": 4,
      "outputs": [
        {
          "output_type": "execute_result",
          "data": {
            "text/plain": [
              "'067. 리스트 요소 무작위로 섞기: random.shuffle()'"
            ],
            "application/vnd.google.colaboratory.intrinsic+json": {
              "type": "string"
            }
          },
          "metadata": {},
          "execution_count": 4
        }
      ]
    },
    {
      "cell_type": "code",
      "source": [
        "import random\n",
        "numList = list(range(1, 11))\n",
        "random.shuffle(numList)\n",
        "print(numList)"
      ],
      "metadata": {
        "colab": {
          "base_uri": "https://localhost:8080/"
        },
        "id": "XIVkg3JC8LSy",
        "outputId": "c9b1275f-8d14-4cb8-ebe2-4ceccb56f510"
      },
      "execution_count": 5,
      "outputs": [
        {
          "output_type": "stream",
          "name": "stdout",
          "text": [
            "[4, 6, 8, 7, 2, 5, 10, 3, 9, 1]\n"
          ]
        }
      ]
    },
    {
      "cell_type": "code",
      "source": [
        "numList = list(range(1, 11))\n",
        "copied = numList.copy()\n",
        "random.shuffle(copied)\n",
        "print(f'numList: {numList}')\n",
        "print(f'copied: {copied}')"
      ],
      "metadata": {
        "colab": {
          "base_uri": "https://localhost:8080/"
        },
        "id": "8nZULcfx8RYA",
        "outputId": "6d7962e6-f908-4382-dbf0-16f38e3bb105"
      },
      "execution_count": 6,
      "outputs": [
        {
          "output_type": "stream",
          "name": "stdout",
          "text": [
            "numList: [1, 2, 3, 4, 5, 6, 7, 8, 9, 10]\n",
            "copied: [3, 5, 8, 9, 2, 4, 1, 10, 6, 7]\n"
          ]
        }
      ]
    },
    {
      "cell_type": "code",
      "source": [],
      "metadata": {
        "id": "puz22q4H8hRY"
      },
      "execution_count": null,
      "outputs": []
    }
  ]
}
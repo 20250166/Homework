{
  "nbformat": 4,
  "nbformat_minor": 0,
  "metadata": {
    "colab": {
      "provenance": [],
      "authorship_tag": "ABX9TyOlSWv1xQq6UELWmIR3MsPe",
      "include_colab_link": true
    },
    "kernelspec": {
      "name": "python3",
      "display_name": "Python 3"
    },
    "language_info": {
      "name": "python"
    }
  },
  "cells": [
    {
      "cell_type": "markdown",
      "metadata": {
        "id": "view-in-github",
        "colab_type": "text"
      },
      "source": [
        "<a href=\"https://colab.research.google.com/github/20250166/Homework/blob/main/20251008_6869.ipynb\" target=\"_parent\"><img src=\"https://colab.research.google.com/assets/colab-badge.svg\" alt=\"Open In Colab\"/></a>"
      ]
    },
    {
      "cell_type": "code",
      "execution_count": 1,
      "metadata": {
        "colab": {
          "base_uri": "https://localhost:8080/",
          "height": 36
        },
        "id": "zvMLsSOu8s8y",
        "outputId": "759d0193-4679-45de-cada-97a7a0c0b431"
      },
      "outputs": [
        {
          "output_type": "execute_result",
          "data": {
            "text/plain": [
              "'068. 리스트로 스택 구현하기'"
            ],
            "application/vnd.google.colaboratory.intrinsic+json": {
              "type": "string"
            }
          },
          "metadata": {},
          "execution_count": 1
        }
      ],
      "source": [
        "\"068. 리스트로 스택 구현하기\""
      ]
    },
    {
      "cell_type": "code",
      "source": [
        "mystack = []"
      ],
      "metadata": {
        "id": "bcGhCQUa8v0j"
      },
      "execution_count": 2,
      "outputs": []
    },
    {
      "cell_type": "code",
      "source": [
        "def putData(data):\n",
        "  mystack.append(data)"
      ],
      "metadata": {
        "id": "5uPYDZln8ySU"
      },
      "execution_count": 3,
      "outputs": []
    },
    {
      "cell_type": "code",
      "source": [
        "def popData():\n",
        "  mystack.append(data)"
      ],
      "metadata": {
        "id": "WDV2Rwnh84OX"
      },
      "execution_count": 4,
      "outputs": []
    },
    {
      "cell_type": "code",
      "source": [
        "def popData():\n",
        "  if len(mystack) == 0:\n",
        "    return None\n",
        "  return mystack.pop()"
      ],
      "metadata": {
        "id": "20NWIDv088NK"
      },
      "execution_count": 5,
      "outputs": []
    },
    {
      "cell_type": "code",
      "source": [
        "putData('사과')\n",
        "putData([1,2,3])\n",
        "putData(3.141592)\n",
        "print(f'스택상태: {mystack}')"
      ],
      "metadata": {
        "colab": {
          "base_uri": "https://localhost:8080/"
        },
        "id": "nM73NJHX9Ga_",
        "outputId": "fdc31909-6206-4445-9cad-8aee4ebc0939"
      },
      "execution_count": 6,
      "outputs": [
        {
          "output_type": "stream",
          "name": "stdout",
          "text": [
            "스택상태: ['사과', [1, 2, 3], 3.141592]\n"
          ]
        }
      ]
    },
    {
      "cell_type": "code",
      "source": [
        "ret = popData()\n",
        "while ret != None:\n",
        "  print(f'스택에서 데이터 추출: {ret}')\n",
        "  print(f'스택tkdxo: {mystack}')\n",
        "  print(f'--------------------')\n",
        "  ret = popData()"
      ],
      "metadata": {
        "colab": {
          "base_uri": "https://localhost:8080/"
        },
        "id": "JXfhaJPM9Slr",
        "outputId": "e1359ac5-958d-4ab4-bbbb-df4e591435c8"
      },
      "execution_count": 7,
      "outputs": [
        {
          "output_type": "stream",
          "name": "stdout",
          "text": [
            "스택에서 데이터 추출: 3.141592\n",
            "스택tkdxo: ['사과', [1, 2, 3]]\n",
            "--------------------\n",
            "스택에서 데이터 추출: [1, 2, 3]\n",
            "스택tkdxo: ['사과']\n",
            "--------------------\n",
            "스택에서 데이터 추출: 사과\n",
            "스택tkdxo: []\n",
            "--------------------\n"
          ]
        }
      ]
    },
    {
      "cell_type": "code",
      "source": [
        "\"069. 리스트로 큐 구현하기\""
      ],
      "metadata": {
        "colab": {
          "base_uri": "https://localhost:8080/",
          "height": 36
        },
        "id": "p1dDlThW9kIV",
        "outputId": "10337ce1-8d83-47c2-fa39-fc6dd257718e"
      },
      "execution_count": 8,
      "outputs": [
        {
          "output_type": "execute_result",
          "data": {
            "text/plain": [
              "'069. 리스트로 큐 구현하기'"
            ],
            "application/vnd.google.colaboratory.intrinsic+json": {
              "type": "string"
            }
          },
          "metadata": {},
          "execution_count": 8
        }
      ]
    },
    {
      "cell_type": "code",
      "source": [
        "import collections\n",
        "myqueue = collections.deque([])"
      ],
      "metadata": {
        "id": "qZ0srbtC9ph3"
      },
      "execution_count": 9,
      "outputs": []
    },
    {
      "cell_type": "code",
      "source": [
        "def putData(data):\n",
        "  myqueue.append(data)"
      ],
      "metadata": {
        "id": "cZQ9Ld279x0Q"
      },
      "execution_count": 10,
      "outputs": []
    },
    {
      "cell_type": "code",
      "source": [
        "def popData():\n",
        "  if len(myqueue) == 0:\n",
        "    return None\n",
        "  return myqueue.popleft()"
      ],
      "metadata": {
        "id": "-KPvCSDv91kc"
      },
      "execution_count": 14,
      "outputs": []
    },
    {
      "cell_type": "code",
      "source": [
        "putData = ('사과')\n",
        "putData = ([1,2,3])\n",
        "putData = (3.141592)\n",
        "print(f'큐상태: {myqueue}')"
      ],
      "metadata": {
        "colab": {
          "base_uri": "https://localhost:8080/"
        },
        "id": "p6uJmxbn-ARX",
        "outputId": "28d0a459-37af-48c0-9eba-7387b1154108"
      },
      "execution_count": 16,
      "outputs": [
        {
          "output_type": "stream",
          "name": "stdout",
          "text": [
            "큐상태: deque([])\n"
          ]
        }
      ]
    },
    {
      "cell_type": "code",
      "source": [
        "ret = popData()\n",
        "while ret != None:\n",
        "  print(f'큐에서 데이터 추출: {ret}')\n",
        "  print(f'큐상태: {myqueue}')\n",
        "  print('--------------------')\n",
        "  ret = popData()"
      ],
      "metadata": {
        "id": "2ITny6s9-VAT"
      },
      "execution_count": 18,
      "outputs": []
    },
    {
      "cell_type": "code",
      "source": [],
      "metadata": {
        "id": "PSDOdnOq-p4K"
      },
      "execution_count": null,
      "outputs": []
    }
  ]
}
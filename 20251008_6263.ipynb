{
  "nbformat": 4,
  "nbformat_minor": 0,
  "metadata": {
    "colab": {
      "provenance": [],
      "authorship_tag": "ABX9TyO2ysUhHQaFh5WgFmbs+4Fh",
      "include_colab_link": true
    },
    "kernelspec": {
      "name": "python3",
      "display_name": "Python 3"
    },
    "language_info": {
      "name": "python"
    }
  },
  "cells": [
    {
      "cell_type": "markdown",
      "metadata": {
        "id": "view-in-github",
        "colab_type": "text"
      },
      "source": [
        "<a href=\"https://colab.research.google.com/github/20250166/Homework/blob/main/20251008_6263.ipynb\" target=\"_parent\"><img src=\"https://colab.research.google.com/assets/colab-badge.svg\" alt=\"Open In Colab\"/></a>"
      ]
    },
    {
      "cell_type": "code",
      "execution_count": 1,
      "metadata": {
        "colab": {
          "base_uri": "https://localhost:8080/",
          "height": 36
        },
        "id": "eq6Rktt45WCz",
        "outputId": "be1b384c-c55b-4e94-b64c-d9b37fb95504"
      },
      "outputs": [
        {
          "output_type": "execute_result",
          "data": {
            "text/plain": [
              "'062. 리스트에 요소 삽입하기: list.insert()'"
            ],
            "application/vnd.google.colaboratory.intrinsic+json": {
              "type": "string"
            }
          },
          "metadata": {},
          "execution_count": 1
        }
      ],
      "source": [
        "\"062. 리스트에 요소 삽입하기: list.insert()\""
      ]
    },
    {
      "cell_type": "code",
      "source": [
        "outer_planets = ['목성', '천왕성', '해왕성']\n",
        "pos = outer_planets.index('천왕성')\n",
        "outer_planets.insert(pos, '천왕성')\n",
        "print(outer_planets)"
      ],
      "metadata": {
        "colab": {
          "base_uri": "https://localhost:8080/"
        },
        "id": "CPyQrlyJ5eQd",
        "outputId": "c3105bd8-1286-4325-a0b0-de792549fba6"
      },
      "execution_count": 2,
      "outputs": [
        {
          "output_type": "stream",
          "name": "stdout",
          "text": [
            "['목성', '천왕성', '천왕성', '해왕성']\n"
          ]
        }
      ]
    },
    {
      "cell_type": "code",
      "source": [
        "outer_planets.insert(-1, '명왕성')\n",
        "print(outer_planets)"
      ],
      "metadata": {
        "colab": {
          "base_uri": "https://localhost:8080/"
        },
        "id": "3VPmu8R45ymv",
        "outputId": "f8bec45c-806d-4904-fe56-2e473db27166"
      },
      "execution_count": 3,
      "outputs": [
        {
          "output_type": "stream",
          "name": "stdout",
          "text": [
            "['목성', '천왕성', '천왕성', '명왕성', '해왕성']\n"
          ]
        }
      ]
    },
    {
      "cell_type": "code",
      "source": [
        "outer_planets = ['목성', '토성', '천왕성', '해왕성']\n",
        "outer_planets.insert(len(outer_planets), '명왕성')\n",
        "print(outer_planets)"
      ],
      "metadata": {
        "colab": {
          "base_uri": "https://localhost:8080/"
        },
        "id": "EvcfgjRo539K",
        "outputId": "a0e6b5e4-bfcc-4b31-acf9-dff0c4e7edb5"
      },
      "execution_count": 5,
      "outputs": [
        {
          "output_type": "stream",
          "name": "stdout",
          "text": [
            "['목성', '토성', '천왕성', '해왕성', '명왕성']\n"
          ]
        }
      ]
    },
    {
      "cell_type": "code",
      "source": [
        "\"063. 리스트 맨 마지막에 요소 추가하기: list.append()\""
      ],
      "metadata": {
        "colab": {
          "base_uri": "https://localhost:8080/",
          "height": 36
        },
        "id": "blAbK0Rd6B0H",
        "outputId": "aa003d3e-efe9-45b5-a769-82051a95cd95"
      },
      "execution_count": 6,
      "outputs": [
        {
          "output_type": "execute_result",
          "data": {
            "text/plain": [
              "'063. 리스트 맨 마지막에 요소 추가하기: list.append()'"
            ],
            "application/vnd.google.colaboratory.intrinsic+json": {
              "type": "string"
            }
          },
          "metadata": {},
          "execution_count": 6
        }
      ]
    },
    {
      "cell_type": "code",
      "source": [
        "fileList = []\n",
        "for i in range(3):\n",
        "  fname = input(f'파일 이름을 입력하세요[{i+1}/3]:')\n",
        "  if fname not in fileList:\n",
        "    fileList.append(fname)\n",
        "  print(f'현재 저장된 파일들: {fileList}')"
      ],
      "metadata": {
        "colab": {
          "base_uri": "https://localhost:8080/"
        },
        "id": "-ek8PmRa6JrN",
        "outputId": "ac4b840b-0510-4f58-eb26-0f17c71a4aca"
      },
      "execution_count": 7,
      "outputs": [
        {
          "output_type": "stream",
          "name": "stdout",
          "text": [
            "파일 이름을 입력하세요[1/3]:앙\n",
            "현재 저장된 파일들: ['앙']\n",
            "파일 이름을 입력하세요[2/3]:으앙\n",
            "현재 저장된 파일들: ['앙', '으앙']\n",
            "파일 이름을 입력하세요[3/3]:우아아아\n",
            "현재 저장된 파일들: ['앙', '으앙', '우아아아']\n"
          ]
        }
      ]
    },
    {
      "cell_type": "code",
      "source": [],
      "metadata": {
        "id": "NNaXy8gC6fav"
      },
      "execution_count": null,
      "outputs": []
    }
  ]
}
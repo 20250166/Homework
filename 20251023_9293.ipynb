{
  "nbformat": 4,
  "nbformat_minor": 0,
  "metadata": {
    "colab": {
      "provenance": [],
      "authorship_tag": "ABX9TyPHa1rkuEtavmYzsqGHcsvY",
      "include_colab_link": true
    },
    "kernelspec": {
      "name": "python3",
      "display_name": "Python 3"
    },
    "language_info": {
      "name": "python"
    }
  },
  "cells": [
    {
      "cell_type": "markdown",
      "metadata": {
        "id": "view-in-github",
        "colab_type": "text"
      },
      "source": [
        "<a href=\"https://colab.research.google.com/github/20250166/Homework/blob/main/20251023_9293.ipynb\" target=\"_parent\"><img src=\"https://colab.research.google.com/assets/colab-badge.svg\" alt=\"Open In Colab\"/></a>"
      ]
    },
    {
      "cell_type": "code",
      "execution_count": 1,
      "metadata": {
        "colab": {
          "base_uri": "https://localhost:8080/",
          "height": 36
        },
        "id": "FSgIEVFMurR7",
        "outputId": "7a676b61-363d-422e-858d-2f40e8745a19"
      },
      "outputs": [
        {
          "output_type": "execute_result",
          "data": {
            "text/plain": [
              "'092. 바이트 문자열 이해하기'"
            ],
            "application/vnd.google.colaboratory.intrinsic+json": {
              "type": "string"
            }
          },
          "metadata": {},
          "execution_count": 1
        }
      ],
      "source": [
        "\"092. 바이트 문자열 이해하기\""
      ]
    },
    {
      "cell_type": "code",
      "source": [
        "strData = 'python'\n",
        "bytesData = b'python'\n",
        "print(strData[0] == bytesData[0])"
      ],
      "metadata": {
        "colab": {
          "base_uri": "https://localhost:8080/"
        },
        "id": "4wU-d7wrutsg",
        "outputId": "f6622c40-062f-4926-e572-64bb9b3cb66a"
      },
      "execution_count": 2,
      "outputs": [
        {
          "output_type": "stream",
          "name": "stdout",
          "text": [
            "False\n"
          ]
        }
      ]
    },
    {
      "cell_type": "code",
      "source": [
        "bytesData1 = b'python'\n",
        "bytesData2 = b'파이썬'"
      ],
      "metadata": {
        "colab": {
          "base_uri": "https://localhost:8080/",
          "height": 112
        },
        "id": "9KXnw34Uu1OG",
        "outputId": "9fd70c70-a024-4cfa-cbcf-00145af7b06c"
      },
      "execution_count": 3,
      "outputs": [
        {
          "output_type": "error",
          "ename": "SyntaxError",
          "evalue": "bytes can only contain ASCII literal characters (ipython-input-1563447335.py, line 2)",
          "traceback": [
            "\u001b[0;36m  File \u001b[0;32m\"/tmp/ipython-input-1563447335.py\"\u001b[0;36m, line \u001b[0;32m2\u001b[0m\n\u001b[0;31m    bytesData2 = b'파이썬'\u001b[0m\n\u001b[0m                 ^\u001b[0m\n\u001b[0;31mSyntaxError\u001b[0m\u001b[0;31m:\u001b[0m bytes can only contain ASCII literal characters\n"
          ]
        }
      ]
    },
    {
      "cell_type": "code",
      "source": [
        "bytesData = '파이썬'.encode()\n",
        "print(bytesData)"
      ],
      "metadata": {
        "colab": {
          "base_uri": "https://localhost:8080/"
        },
        "id": "iPm4eurWu87M",
        "outputId": "a0e38adf-0d1f-47f2-dcb4-f2ef64cdd994"
      },
      "execution_count": 4,
      "outputs": [
        {
          "output_type": "stream",
          "name": "stdout",
          "text": [
            "b'\\xed\\x8c\\x8c\\xec\\x9d\\xb4\\xec\\x8d\\xac'\n"
          ]
        }
      ]
    },
    {
      "cell_type": "code",
      "source": [
        "bytesData = bytes('사랑해요 python!', 'utf-8')\n",
        "print(bytesData)"
      ],
      "metadata": {
        "colab": {
          "base_uri": "https://localhost:8080/"
        },
        "id": "4EdDTzZ_vB0p",
        "outputId": "d69a0449-3442-4d97-d50a-677716f62bea"
      },
      "execution_count": 6,
      "outputs": [
        {
          "output_type": "stream",
          "name": "stdout",
          "text": [
            "b'\\xec\\x82\\xac\\xeb\\x9e\\x91\\xed\\x95\\xb4\\xec\\x9a\\x94 python!'\n"
          ]
        }
      ]
    },
    {
      "cell_type": "code",
      "source": [
        "\"093. 16진수 표시 문자열을 바이트 문자열로 변환: bytes.fromhex()\""
      ],
      "metadata": {
        "colab": {
          "base_uri": "https://localhost:8080/",
          "height": 36
        },
        "id": "zJD2H7YVvIjq",
        "outputId": "de09ebb6-e251-49ce-c953-40c249bcf644"
      },
      "execution_count": 7,
      "outputs": [
        {
          "output_type": "execute_result",
          "data": {
            "text/plain": [
              "'093. 16진수 표시 문자열을 바이트 문자열로 변환: bytes.fromhex()'"
            ],
            "application/vnd.google.colaboratory.intrinsic+json": {
              "type": "string"
            }
          },
          "metadata": {},
          "execution_count": 7
        }
      ]
    },
    {
      "cell_type": "code",
      "source": [
        "bytesData = bytes.fromhex('50 79 74 68 6f 6e f8 fa')\n",
        "print(bytesData)"
      ],
      "metadata": {
        "colab": {
          "base_uri": "https://localhost:8080/"
        },
        "id": "U8EV5FjdvWmR",
        "outputId": "84436161-671b-451a-cf5e-068c932a14ca"
      },
      "execution_count": 8,
      "outputs": [
        {
          "output_type": "stream",
          "name": "stdout",
          "text": [
            "b'Python\\xf8\\xfa'\n"
          ]
        }
      ]
    },
    {
      "cell_type": "code",
      "source": [],
      "metadata": {
        "id": "BFhYfSr2viVm"
      },
      "execution_count": null,
      "outputs": []
    }
  ]
}
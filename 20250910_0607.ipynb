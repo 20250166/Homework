{
  "nbformat": 4,
  "nbformat_minor": 0,
  "metadata": {
    "colab": {
      "provenance": [],
      "authorship_tag": "ABX9TyOeOGhu4f7+xz0Ogi+1nQUe",
      "include_colab_link": true
    },
    "kernelspec": {
      "name": "python3",
      "display_name": "Python 3"
    },
    "language_info": {
      "name": "python"
    }
  },
  "cells": [
    {
      "cell_type": "markdown",
      "metadata": {
        "id": "view-in-github",
        "colab_type": "text"
      },
      "source": [
        "<a href=\"https://colab.research.google.com/github/20250166/Homework/blob/main/20250910_0607.ipynb\" target=\"_parent\"><img src=\"https://colab.research.google.com/assets/colab-badge.svg\" alt=\"Open In Colab\"/></a>"
      ]
    },
    {
      "cell_type": "code",
      "execution_count": 40,
      "metadata": {
        "id": "GoB-lnNH4kGG",
        "colab": {
          "base_uri": "https://localhost:8080/",
          "height": 36
        },
        "outputId": "79ea6e5d-01a1-4c81-8568-395bc1cb1b04"
      },
      "outputs": [
        {
          "output_type": "execute_result",
          "data": {
            "text/plain": [
              "'006.자료형 개념 // 데이터 타입이라고도 불리는 자료형에 대한 개념을 배운다.'"
            ],
            "application/vnd.google.colaboratory.intrinsic+json": {
              "type": "string"
            }
          },
          "metadata": {},
          "execution_count": 40
        }
      ],
      "source": [
        "\"006.자료형 개념 // 데이터 타입이라고도 불리는 자료형에 대한 개념을 배운다.\""
      ]
    },
    {
      "cell_type": "code",
      "source": [
        "# 파이썬의 주요 자료형: 수치 자료, 불리언 자료, 시퀀스 자료, set 자료, 딕셔너리"
      ],
      "metadata": {
        "id": "gLUuw2Kw4rGY"
      },
      "execution_count": 41,
      "outputs": []
    },
    {
      "cell_type": "code",
      "source": [
        "# 수치 자료: 수학에서 사용하는 수를 표현.\n",
        "# 정수형, 실수형, 복소수형 3가지로 나뉘어짐.\n",
        "\n",
        "intData = 15 # 정수 데이터\n",
        "floatData = 2.5 # 실수 데이터\n",
        "complexData = 1+1j # 복소수 데이터"
      ],
      "metadata": {
        "id": "vvW_6EVm4v5M"
      },
      "execution_count": 42,
      "outputs": []
    },
    {
      "cell_type": "code",
      "source": [
        "# 불리언 자료 : 참과 거짓 값을 나타냄. true, false로 표기.\n",
        "\n",
        "isTrue = True\n",
        "isFalse = False"
      ],
      "metadata": {
        "id": "lC7WfvK85Q12"
      },
      "execution_count": 43,
      "outputs": []
    },
    {
      "cell_type": "code",
      "source": [
        "# 시퀀스 자료\n",
        "# 순서가 있는 요소들로 구성됨. 정수 인덱스로 접근 가능.\n",
        "# 리스트, 튜플, 문자열, range 객체, 바이너리 시퀀스 다섯개 존재."
      ],
      "metadata": {
        "id": "J_eDg3Fy5cdC"
      },
      "execution_count": 44,
      "outputs": []
    },
    {
      "cell_type": "code",
      "source": [
        "# set 자료: 집합과 유사. 요소들 간의 순서가 없고 중복되지 않은 요소들로 구성.\n",
        "\n",
        "sdtData = {1,2,3,4,5}\n",
        "# \"{}\" 안에 요소를 나열함으로써 정의 가능."
      ],
      "metadata": {
        "id": "uVRvSEOW5eX-"
      },
      "execution_count": 45,
      "outputs": []
    },
    {
      "cell_type": "code",
      "source": [
        "# 딕셔너리 자료 : \"{}\" 안에 \"키:값\"으로 된 쌍이 요소로 구성된 자료형.\n",
        "\n",
        "dictData = {0:False, 1:True}\n",
        "# 각 요소는 콤마로 구분해 나열, 인덱스로 접근X 키를 이용해 대응되는 값에 접근."
      ],
      "metadata": {
        "id": "8koyWVl357fx"
      },
      "execution_count": 46,
      "outputs": []
    },
    {
      "cell_type": "code",
      "source": [
        "\"007.자료형 출력: print() // 다양한 자료를 화면에 출력하는 기본적인 방법에 대해 배운다.\""
      ],
      "metadata": {
        "colab": {
          "base_uri": "https://localhost:8080/",
          "height": 36
        },
        "id": "kvGzJ7EV6RLh",
        "outputId": "fdefc4d7-be98-499f-f20f-f84cb1941994"
      },
      "execution_count": 47,
      "outputs": [
        {
          "output_type": "execute_result",
          "data": {
            "text/plain": [
              "'007.자료형 출력: print() // 다양한 자료를 화면에 출력하는 기본적인 방법에 대해 배운다.'"
            ],
            "application/vnd.google.colaboratory.intrinsic+json": {
              "type": "string"
            }
          },
          "metadata": {},
          "execution_count": 47
        }
      ]
    },
    {
      "cell_type": "code",
      "source": [
        "print('안녕하세요 파이썬!')"
      ],
      "metadata": {
        "colab": {
          "base_uri": "https://localhost:8080/",
          "height": 149
        },
        "id": "bqj8RBox6doa",
        "outputId": "9ead1398-929f-480e-c367-a349822576c3"
      },
      "execution_count": 48,
      "outputs": [
        {
          "output_type": "error",
          "ename": "TypeError",
          "evalue": "'tuple' object is not callable",
          "traceback": [
            "\u001b[0;31m---------------------------------------------------------------------------\u001b[0m",
            "\u001b[0;31mTypeError\u001b[0m                                 Traceback (most recent call last)",
            "\u001b[0;32m/tmp/ipython-input-2039978583.py\u001b[0m in \u001b[0;36m<cell line: 0>\u001b[0;34m()\u001b[0m\n\u001b[0;32m----> 1\u001b[0;31m \u001b[0mprint\u001b[0m\u001b[0;34m(\u001b[0m\u001b[0;34m'안녕하세요 파이썬!'\u001b[0m\u001b[0;34m)\u001b[0m\u001b[0;34m\u001b[0m\u001b[0;34m\u001b[0m\u001b[0m\n\u001b[0m",
            "\u001b[0;31mTypeError\u001b[0m: 'tuple' object is not callable"
          ]
        }
      ]
    },
    {
      "cell_type": "code",
      "source": [
        "hello = '안녕하세요 파이썬!'\n",
        "print(hello)"
      ],
      "metadata": {
        "id": "rz2wEc3x7Bih"
      },
      "execution_count": null,
      "outputs": []
    },
    {
      "cell_type": "code",
      "source": [
        "intData1 = 1\n",
        "intData2 = 2\n",
        "print(intData1 + intData2)"
      ],
      "metadata": {
        "id": "ZaLcDX587H6f"
      },
      "execution_count": null,
      "outputs": []
    },
    {
      "cell_type": "code",
      "source": [
        "name = '홍길동'\n",
        "phone = '010-1234-5678'\n",
        "print('이름:',name,'핸드폰:',phone)"
      ],
      "metadata": {
        "id": "x0XmWC7k7Pre"
      },
      "execution_count": null,
      "outputs": []
    },
    {
      "cell_type": "code",
      "source": [
        "print('#', end = '')\n",
        "print('#'*5)"
      ],
      "metadata": {
        "id": "EBSNalAG8SuF"
      },
      "execution_count": null,
      "outputs": []
    },
    {
      "cell_type": "code",
      "source": [
        "print(name, phone, sep = ';')\n",
        "\n",
        "# 콤마로 구분해 print()의 마지막 인자로 sep 지정"
      ],
      "metadata": {
        "colab": {
          "base_uri": "https://localhost:8080/",
          "height": 149
        },
        "id": "1zEebTWj8eQF",
        "outputId": "6197aaf5-0dbe-4205-dc41-2f57e8220607"
      },
      "execution_count": 49,
      "outputs": [
        {
          "output_type": "error",
          "ename": "TypeError",
          "evalue": "'tuple' object is not callable",
          "traceback": [
            "\u001b[0;31m---------------------------------------------------------------------------\u001b[0m",
            "\u001b[0;31mTypeError\u001b[0m                                 Traceback (most recent call last)",
            "\u001b[0;32m/tmp/ipython-input-937888798.py\u001b[0m in \u001b[0;36m<cell line: 0>\u001b[0;34m()\u001b[0m\n\u001b[0;32m----> 1\u001b[0;31m \u001b[0mprint\u001b[0m\u001b[0;34m(\u001b[0m\u001b[0mname\u001b[0m\u001b[0;34m,\u001b[0m \u001b[0mphone\u001b[0m\u001b[0;34m,\u001b[0m \u001b[0msep\u001b[0m \u001b[0;34m=\u001b[0m \u001b[0;34m';'\u001b[0m\u001b[0;34m)\u001b[0m\u001b[0;34m\u001b[0m\u001b[0;34m\u001b[0m\u001b[0m\n\u001b[0m",
            "\u001b[0;31mTypeError\u001b[0m: 'tuple' object is not callable"
          ]
        }
      ]
    }
  ]
}
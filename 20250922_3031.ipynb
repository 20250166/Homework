{
  "nbformat": 4,
  "nbformat_minor": 0,
  "metadata": {
    "colab": {
      "provenance": [],
      "authorship_tag": "ABX9TyOrYWEaNd4ZLpQTuBK93xr1",
      "include_colab_link": true
    },
    "kernelspec": {
      "name": "python3",
      "display_name": "Python 3"
    },
    "language_info": {
      "name": "python"
    }
  },
  "cells": [
    {
      "cell_type": "markdown",
      "metadata": {
        "id": "view-in-github",
        "colab_type": "text"
      },
      "source": [
        "<a href=\"https://colab.research.google.com/github/20250166/Homework/blob/main/20250922_3031.ipynb\" target=\"_parent\"><img src=\"https://colab.research.google.com/assets/colab-badge.svg\" alt=\"Open In Colab\"/></a>"
      ]
    },
    {
      "cell_type": "code",
      "execution_count": 1,
      "metadata": {
        "colab": {
          "base_uri": "https://localhost:8080/",
          "height": 36
        },
        "id": "oczbt7AkoV4j",
        "outputId": "0afc0b37-2b2c-428a-a8f8-13b333a4c6aa"
      },
      "outputs": [
        {
          "output_type": "execute_result",
          "data": {
            "text/plain": [
              "'030.반올림 수 구하기: round()'"
            ],
            "application/vnd.google.colaboratory.intrinsic+json": {
              "type": "string"
            }
          },
          "metadata": {},
          "execution_count": 1
        }
      ],
      "source": [
        "\"030.반올림 수 구하기: round()\""
      ]
    },
    {
      "cell_type": "code",
      "source": [
        "ret = round(42.195)\n",
        "print(ret)"
      ],
      "metadata": {
        "colab": {
          "base_uri": "https://localhost:8080/"
        },
        "id": "xq3TZgvMoqHV",
        "outputId": "7ae1653b-d617-4402-e3b6-e4811d5a2eb7"
      },
      "execution_count": 2,
      "outputs": [
        {
          "output_type": "stream",
          "name": "stdout",
          "text": [
            "42\n"
          ]
        }
      ]
    },
    {
      "cell_type": "code",
      "source": [
        "ret = round(42.195, 0)\n",
        "print(ret)"
      ],
      "metadata": {
        "colab": {
          "base_uri": "https://localhost:8080/"
        },
        "id": "NCWwCV7Koux2",
        "outputId": "77fa2b3c-2830-40d2-960d-4fb28f072472"
      },
      "execution_count": 3,
      "outputs": [
        {
          "output_type": "stream",
          "name": "stdout",
          "text": [
            "42.0\n"
          ]
        }
      ]
    },
    {
      "cell_type": "code",
      "source": [
        "ret = round(42.195, 1)\n",
        "print(ret)"
      ],
      "metadata": {
        "colab": {
          "base_uri": "https://localhost:8080/"
        },
        "id": "URnk_VQro0_w",
        "outputId": "6572c420-09b7-48d0-b740-89b145a5b233"
      },
      "execution_count": 4,
      "outputs": [
        {
          "output_type": "stream",
          "name": "stdout",
          "text": [
            "42.2\n"
          ]
        }
      ]
    },
    {
      "cell_type": "code",
      "source": [
        "ret = round(42.195, -1)\n",
        "print(ret)"
      ],
      "metadata": {
        "colab": {
          "base_uri": "https://localhost:8080/"
        },
        "id": "E9S-M-Oqo8ZA",
        "outputId": "fdac6838-5742-41ba-fc92-2232321b82a0"
      },
      "execution_count": 5,
      "outputs": [
        {
          "output_type": "stream",
          "name": "stdout",
          "text": [
            "40.0\n"
          ]
        }
      ]
    },
    {
      "cell_type": "code",
      "source": [
        "\"031.수치 자료형 변환: int(), float(), str()\""
      ],
      "metadata": {
        "colab": {
          "base_uri": "https://localhost:8080/",
          "height": 36
        },
        "id": "vpWu3-Aio_mm",
        "outputId": "f15b5e7e-3dc1-491d-f42a-be85a2609ae3"
      },
      "execution_count": 6,
      "outputs": [
        {
          "output_type": "execute_result",
          "data": {
            "text/plain": [
              "'031.수치 자료형 변환: int(), float(), str()'"
            ],
            "application/vnd.google.colaboratory.intrinsic+json": {
              "type": "string"
            }
          },
          "metadata": {},
          "execution_count": 6
        }
      ]
    },
    {
      "cell_type": "code",
      "source": [
        "floatData = 1234.5\n",
        "intData = int(floatData)\n",
        "print(f'intData {intData} 자료형은 {type(intData)}입니다.')"
      ],
      "metadata": {
        "colab": {
          "base_uri": "https://localhost:8080/"
        },
        "id": "hNYWCVDApF84",
        "outputId": "8d1abb9c-6cba-4afd-9e29-f48b7e2de6ec"
      },
      "execution_count": 7,
      "outputs": [
        {
          "output_type": "stream",
          "name": "stdout",
          "text": [
            "intData 1234 자료형은 <class 'int'>입니다.\n"
          ]
        }
      ]
    },
    {
      "cell_type": "code",
      "source": [
        "strData = '1234'\n",
        "intData = int(strData)\n",
        "print(f'intData {intData} 자료형은 {type(strData)}입니다.')"
      ],
      "metadata": {
        "colab": {
          "base_uri": "https://localhost:8080/"
        },
        "id": "VZiAjL0CpTBz",
        "outputId": "72c1a1f1-42bd-4fcf-d71f-8e5a11d9d9d0"
      },
      "execution_count": 8,
      "outputs": [
        {
          "output_type": "stream",
          "name": "stdout",
          "text": [
            "intData 1234 자료형은 <class 'str'>입니다.\n"
          ]
        }
      ]
    },
    {
      "cell_type": "code",
      "source": [
        "strData = '1234.5'\n",
        "intData = int(strData)"
      ],
      "metadata": {
        "colab": {
          "base_uri": "https://localhost:8080/",
          "height": 168
        },
        "id": "nsWL_M7ppeQe",
        "outputId": "051375a2-f9b8-42d9-98cf-9e1a3816588d"
      },
      "execution_count": 9,
      "outputs": [
        {
          "output_type": "error",
          "ename": "ValueError",
          "evalue": "invalid literal for int() with base 10: '1234.5'",
          "traceback": [
            "\u001b[0;31m---------------------------------------------------------------------------\u001b[0m",
            "\u001b[0;31mValueError\u001b[0m                                Traceback (most recent call last)",
            "\u001b[0;32m/tmp/ipython-input-3767622251.py\u001b[0m in \u001b[0;36m<cell line: 0>\u001b[0;34m()\u001b[0m\n\u001b[1;32m      1\u001b[0m \u001b[0mstrData\u001b[0m \u001b[0;34m=\u001b[0m \u001b[0;34m'1234.5'\u001b[0m\u001b[0;34m\u001b[0m\u001b[0;34m\u001b[0m\u001b[0m\n\u001b[0;32m----> 2\u001b[0;31m \u001b[0mintData\u001b[0m \u001b[0;34m=\u001b[0m \u001b[0mint\u001b[0m\u001b[0;34m(\u001b[0m\u001b[0mstrData\u001b[0m\u001b[0;34m)\u001b[0m\u001b[0;34m\u001b[0m\u001b[0;34m\u001b[0m\u001b[0m\n\u001b[0m",
            "\u001b[0;31mValueError\u001b[0m: invalid literal for int() with base 10: '1234.5'"
          ]
        }
      ]
    },
    {
      "cell_type": "code",
      "source": [
        "strData = '1234.5'\n",
        "floatData = float(strData)\n",
        "print(f'intData {floatData} 자료형은 {type(floatData)}입니다.')"
      ],
      "metadata": {
        "colab": {
          "base_uri": "https://localhost:8080/"
        },
        "id": "mA-_IkVcppYb",
        "outputId": "506ffd1c-ff00-40ae-f69a-b00f13867fa1"
      },
      "execution_count": 10,
      "outputs": [
        {
          "output_type": "stream",
          "name": "stdout",
          "text": [
            "intData 1234.5 자료형은 <class 'float'>입니다.\n"
          ]
        }
      ]
    },
    {
      "cell_type": "code",
      "source": [
        "print(float('2E5'))\n",
        "print(float('2e3'))"
      ],
      "metadata": {
        "colab": {
          "base_uri": "https://localhost:8080/"
        },
        "id": "R1Fg7to8p5fg",
        "outputId": "587d4859-36e0-4427-dcfe-90c641d718fb"
      },
      "execution_count": 12,
      "outputs": [
        {
          "output_type": "stream",
          "name": "stdout",
          "text": [
            "200000.0\n",
            "2000.0\n"
          ]
        }
      ]
    },
    {
      "cell_type": "code",
      "source": [
        "intData = 1234;strData1 = str(intData)\n",
        "floatData1 = 1234.5; strData2 = str(floatData1)\n",
        "floatData2 = 1e-3; strData3 = str(floatData2)\n",
        "\n",
        "print(f'정수 {intData} => 문자열 {strData1}, {type(strData1)}')\n",
        "print(f'실수 {floatData1} => 문자열 {strData2}, {type(strData2)}')\n",
        "print(f'실수 {floatData2} => 문자열 {strData3}, {type(strData3)}')"
      ],
      "metadata": {
        "colab": {
          "base_uri": "https://localhost:8080/"
        },
        "id": "JF9ollgRp8wt",
        "outputId": "91fd607b-b242-487e-a2cc-70637c44ccde"
      },
      "execution_count": 14,
      "outputs": [
        {
          "output_type": "stream",
          "name": "stdout",
          "text": [
            "정수 1234 => 문자열 1234, <class 'str'>\n",
            "실수 1234.5 => 문자열 1234.5, <class 'str'>\n",
            "실수 0.001 => 문자열 0.001, <class 'str'>\n"
          ]
        }
      ]
    }
  ]
}
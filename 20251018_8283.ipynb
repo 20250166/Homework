{
  "nbformat": 4,
  "nbformat_minor": 0,
  "metadata": {
    "colab": {
      "provenance": [],
      "authorship_tag": "ABX9TyPMQNrsYle+Tqmo6dpLmQnV",
      "include_colab_link": true
    },
    "kernelspec": {
      "name": "python3",
      "display_name": "Python 3"
    },
    "language_info": {
      "name": "python"
    }
  },
  "cells": [
    {
      "cell_type": "markdown",
      "metadata": {
        "id": "view-in-github",
        "colab_type": "text"
      },
      "source": [
        "<a href=\"https://colab.research.google.com/github/20250166/Homework/blob/main/20251018_8283.ipynb\" target=\"_parent\"><img src=\"https://colab.research.google.com/assets/colab-badge.svg\" alt=\"Open In Colab\"/></a>"
      ]
    },
    {
      "cell_type": "code",
      "execution_count": 1,
      "metadata": {
        "colab": {
          "base_uri": "https://localhost:8080/",
          "height": 36
        },
        "id": "uxTHnvkKoy0r",
        "outputId": "b5f378bd-f80f-48bb-fc5a-a7c8f14dac78"
      },
      "outputs": [
        {
          "output_type": "execute_result",
          "data": {
            "text/plain": [
              "'082. 문자열을 구분자로 분리하기: str.split()'"
            ],
            "application/vnd.google.colaboratory.intrinsic+json": {
              "type": "string"
            }
          },
          "metadata": {},
          "execution_count": 1
        }
      ],
      "source": [
        "\"082. 문자열을 구분자로 분리하기: str.split()\""
      ]
    },
    {
      "cell_type": "code",
      "source": [
        "logData = '홍길도;남자;18세;도적;초능력자'\n",
        "profile = logData.split(';')\n",
        "print(profile)"
      ],
      "metadata": {
        "colab": {
          "base_uri": "https://localhost:8080/"
        },
        "id": "Jxzgax4no3Bk",
        "outputId": "fe064b2b-fb2d-4f2e-940f-d9928676a3e5"
      },
      "execution_count": 3,
      "outputs": [
        {
          "output_type": "stream",
          "name": "stdout",
          "text": [
            "['홍길도', '남자', '18세', '도적', '초능력자']\n"
          ]
        }
      ]
    },
    {
      "cell_type": "code",
      "source": [
        "text = '나는 파이썬을 사랑합니다.'\n",
        "print(text.split())"
      ],
      "metadata": {
        "colab": {
          "base_uri": "https://localhost:8080/"
        },
        "id": "fJrk1p6go_9C",
        "outputId": "1c45ddbb-5448-4cec-cebc-ed0940df7152"
      },
      "execution_count": 4,
      "outputs": [
        {
          "output_type": "stream",
          "name": "stdout",
          "text": [
            "['나는', '파이썬을', '사랑합니다.']\n"
          ]
        }
      ]
    },
    {
      "cell_type": "code",
      "source": [
        "profile = '이름:홍길동 나이:18세 성별:남자 국적:조선 직업:도적 특기:초능력'\n",
        "for data in profile.split():\n",
        "  key, val = data.split(':')\n",
        "  print(f'{key} --> {val}')"
      ],
      "metadata": {
        "colab": {
          "base_uri": "https://localhost:8080/"
        },
        "id": "BlV3swubpI7G",
        "outputId": "08b7bc65-fed0-4d8a-b684-10029de8709b"
      },
      "execution_count": 6,
      "outputs": [
        {
          "output_type": "stream",
          "name": "stdout",
          "text": [
            "이름 --> 홍길동\n",
            "나이 --> 18세\n",
            "성별 --> 남자\n",
            "국적 --> 조선\n",
            "직업 --> 도적\n",
            "특기 --> 초능력\n"
          ]
        }
      ]
    },
    {
      "cell_type": "code",
      "source": [
        "\"083. 문자열에서 좌우 문자/공백 제거하기: str.strip(), str.lstrip, str.rstrip\""
      ],
      "metadata": {
        "colab": {
          "base_uri": "https://localhost:8080/",
          "height": 36
        },
        "id": "5bw9aYPLpaqQ",
        "outputId": "62e6006a-a349-4025-e13a-88cd42dc8f7b"
      },
      "execution_count": 7,
      "outputs": [
        {
          "output_type": "execute_result",
          "data": {
            "text/plain": [
              "'083. 문자열에서 좌우 문자/공백 제거하기: str.strip(), str.lstrip, str.rstrip'"
            ],
            "application/vnd.google.colaboratory.intrinsic+json": {
              "type": "string"
            }
          },
          "metadata": {},
          "execution_count": 7
        }
      ]
    },
    {
      "cell_type": "code",
      "source": [
        "text = '  이 문장의 양쪽에는 공백이 있습니다.  '\n",
        "print(f'<{text.strip()}>')\n",
        "print(f'<{text.lstrip()}>')\n",
        "print(f'<{text.rstrip()}>')"
      ],
      "metadata": {
        "colab": {
          "base_uri": "https://localhost:8080/"
        },
        "id": "ltxkjBsNprmb",
        "outputId": "51e0cbde-b515-42aa-b448-afa16ea4121d"
      },
      "execution_count": 9,
      "outputs": [
        {
          "output_type": "stream",
          "name": "stdout",
          "text": [
            "<이 문장의 양쪽에는 공백이 있습니다.>\n",
            "<이 문장의 양쪽에는 공백이 있습니다.  >\n",
            "<  이 문장의 양쪽에는 공백이 있습니다.>\n"
          ]
        }
      ]
    },
    {
      "cell_type": "code",
      "source": [
        "url = 'www.python.com'\n",
        "print(url.strip('cmow.'))"
      ],
      "metadata": {
        "colab": {
          "base_uri": "https://localhost:8080/"
        },
        "id": "c3C5jQSkqAA6",
        "outputId": "3ca88d7b-ba06-4f4a-bdc5-9bef910bf9f0"
      },
      "execution_count": 10,
      "outputs": [
        {
          "output_type": "stream",
          "name": "stdout",
          "text": [
            "python\n"
          ]
        }
      ]
    },
    {
      "cell_type": "code",
      "source": [
        "print(url.lstrip('cmow.'))\n",
        "print(url.rstrip('cmow.'))"
      ],
      "metadata": {
        "colab": {
          "base_uri": "https://localhost:8080/"
        },
        "id": "jR4W9ZCeqJ1s",
        "outputId": "13cb6973-997b-4899-ce8e-95f67dab62f4"
      },
      "execution_count": 11,
      "outputs": [
        {
          "output_type": "stream",
          "name": "stdout",
          "text": [
            "python.com\n",
            "www.python\n"
          ]
        }
      ]
    },
    {
      "cell_type": "code",
      "source": [],
      "metadata": {
        "id": "v66rMkQZqQXz"
      },
      "execution_count": null,
      "outputs": []
    }
  ]
}
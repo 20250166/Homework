{
  "nbformat": 4,
  "nbformat_minor": 0,
  "metadata": {
    "colab": {
      "provenance": [],
      "authorship_tag": "ABX9TyMQtd1t4AOASPfe5TpV0yqr",
      "include_colab_link": true
    },
    "kernelspec": {
      "name": "python3",
      "display_name": "Python 3"
    },
    "language_info": {
      "name": "python"
    }
  },
  "cells": [
    {
      "cell_type": "markdown",
      "metadata": {
        "id": "view-in-github",
        "colab_type": "text"
      },
      "source": [
        "<a href=\"https://colab.research.google.com/github/20250166/Homework/blob/main/20250916_2021.ipynb\" target=\"_parent\"><img src=\"https://colab.research.google.com/assets/colab-badge.svg\" alt=\"Open In Colab\"/></a>"
      ]
    },
    {
      "cell_type": "code",
      "execution_count": 1,
      "metadata": {
        "colab": {
          "base_uri": "https://localhost:8080/",
          "height": 36
        },
        "id": "aAaFGvwIKDXN",
        "outputId": "da22e0e5-360f-4f25-c852-00b301d3fb78"
      },
      "outputs": [
        {
          "output_type": "execute_result",
          "data": {
            "text/plain": [
              "'020.match문: match~case // 식이나 값에 대해 case별로 구분해서 비교하여 코드를 실행할 수 있는 match문에 대해 배운다.'"
            ],
            "application/vnd.google.colaboratory.intrinsic+json": {
              "type": "string"
            }
          },
          "metadata": {},
          "execution_count": 1
        }
      ],
      "source": [
        "\"020.match문: match~case // 식이나 값에 대해 case별로 구분해서 비교하여 코드를 실행할 수 있는 match문에 대해 배운다.\""
      ]
    },
    {
      "cell_type": "code",
      "source": [
        "http_status = 400\n",
        "match http_status:\n",
        "    case 400:\n",
        "        print(\"Bad request\")\n",
        "    case 401:\n",
        "        print(\"Unauthorized\")\n",
        "    case 403:\n",
        "        print(\"Forbidden\")\n",
        "    case 403:\n",
        "        print(\"Not Found\")\n",
        "    case _:\n",
        "        print(\"기타 인터넷 문제로 뭔가 잘못됨\")"
      ],
      "metadata": {
        "colab": {
          "base_uri": "https://localhost:8080/"
        },
        "id": "0s77zwatKSp9",
        "outputId": "65b0d336-faf9-4894-a49a-405e2933b604"
      },
      "execution_count": 2,
      "outputs": [
        {
          "output_type": "stream",
          "name": "stdout",
          "text": [
            "Bad request\n"
          ]
        }
      ]
    },
    {
      "cell_type": "code",
      "source": [
        "http_status = 302\n",
        "match http_status:\n",
        "  case 200 | 202 | 203:\n",
        "    print('Success')\n",
        "  case 300 | 302 | 303:\n",
        "    print('Redirection')\n",
        "  case 400 | 402 | 403 | 404:\n",
        "    print('Client Errors')\n",
        "  case _:\n",
        "    print('기타 HTTP 응답 코드')"
      ],
      "metadata": {
        "colab": {
          "base_uri": "https://localhost:8080/"
        },
        "id": "_UH-ChV8LIyG",
        "outputId": "2e71d1fd-1680-4bcd-896e-78d0800f5da6"
      },
      "execution_count": 3,
      "outputs": [
        {
          "output_type": "stream",
          "name": "stdout",
          "text": [
            "Redirection\n"
          ]
        }
      ]
    },
    {
      "cell_type": "code",
      "source": [
        "point = (0,0)\n",
        "#point = (1,0)\n",
        "#point = (0,1)\n",
        "#point = (1,1)\n",
        "\n",
        "match point:\n",
        "  case (0,0):\n",
        "    print('원점 좌표')\n",
        "  case (x,0):\n",
        "    print(f'x축 위의 점이며 x의 값은 {x}')\n",
        "  case (0,y):\n",
        "    print(f'y축 위의 점이며 y의 값은 {y}')\n",
        "  case (x,y):\n",
        "    print(f'(x,y) = ({x},{y})')\n",
        "  case _:\n",
        "    print('오류: 2차원 좌표가 아님.')"
      ],
      "metadata": {
        "colab": {
          "base_uri": "https://localhost:8080/"
        },
        "id": "k9tMSwpeL5Op",
        "outputId": "023ce6a7-5304-41e6-e89a-d21866356296"
      },
      "execution_count": 4,
      "outputs": [
        {
          "output_type": "stream",
          "name": "stdout",
          "text": [
            "원점 좌표\n"
          ]
        }
      ]
    },
    {
      "cell_type": "code",
      "source": [
        "\"021.수치연산자: +,-,*,/,**,//,% // 수치 자료에 쓰이는 사칙연사자, 지수연산자, 나머지 및 몫을 구하는 연산자에 대해 배운다.\""
      ],
      "metadata": {
        "id": "dq0U2lO7Mw3t"
      },
      "execution_count": null,
      "outputs": []
    },
    {
      "cell_type": "code",
      "source": [
        "x = 2\n",
        "y = 4\n",
        "print(x*y)\n",
        "print(x/y)\n",
        "print(x**y)"
      ],
      "metadata": {
        "colab": {
          "base_uri": "https://localhost:8080/"
        },
        "id": "pP8sEsRDNGGw",
        "outputId": "145bfe1a-210f-4cc1-8f6c-9f05fa9ae73e"
      },
      "execution_count": 6,
      "outputs": [
        {
          "output_type": "stream",
          "name": "stdout",
          "text": [
            "8\n",
            "0.5\n",
            "16\n"
          ]
        }
      ]
    },
    {
      "cell_type": "code",
      "source": [
        "x = 5\n",
        "y = 2\n",
        "print(x//y) #5를 2로 나눈 몫\n",
        "print(x%y) #5를 2로 나눈 나머지"
      ],
      "metadata": {
        "colab": {
          "base_uri": "https://localhost:8080/"
        },
        "id": "4IRzLiLHNJvA",
        "outputId": "023011b1-1e5d-43df-c750-a3d77f4175e2"
      },
      "execution_count": 7,
      "outputs": [
        {
          "output_type": "stream",
          "name": "stdout",
          "text": [
            "2\n",
            "1\n"
          ]
        }
      ]
    }
  ]
}
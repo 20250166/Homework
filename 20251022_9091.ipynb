{
  "nbformat": 4,
  "nbformat_minor": 0,
  "metadata": {
    "colab": {
      "provenance": [],
      "authorship_tag": "ABX9TyOhG2ON1u3Fz+A19TrQ2IHE",
      "include_colab_link": true
    },
    "kernelspec": {
      "name": "python3",
      "display_name": "Python 3"
    },
    "language_info": {
      "name": "python"
    }
  },
  "cells": [
    {
      "cell_type": "markdown",
      "metadata": {
        "id": "view-in-github",
        "colab_type": "text"
      },
      "source": [
        "<a href=\"https://colab.research.google.com/github/20250166/Homework/blob/main/20251022_9091.ipynb\" target=\"_parent\"><img src=\"https://colab.research.google.com/assets/colab-badge.svg\" alt=\"Open In Colab\"/></a>"
      ]
    },
    {
      "cell_type": "code",
      "execution_count": 1,
      "metadata": {
        "colab": {
          "base_uri": "https://localhost:8080/",
          "height": 36
        },
        "id": "e1Zlh-e-tTwp",
        "outputId": "f2d0441a-ae4f-4d7c-8244-6f8191217e64"
      },
      "outputs": [
        {
          "output_type": "execute_result",
          "data": {
            "text/plain": [
              "'090.문자열에서 주어진 접두어/접미어 제거하기: str.removeprefix(), strremovesuffix()'"
            ],
            "application/vnd.google.colaboratory.intrinsic+json": {
              "type": "string"
            }
          },
          "metadata": {},
          "execution_count": 1
        }
      ],
      "source": [
        "\"090.문자열에서 주어진 접두어/접미어 제거하기: str.removeprefix(), strremovesuffix()\""
      ]
    },
    {
      "cell_type": "code",
      "source": [
        "strData = '[info]Seoul is the captial of Korea.'\n",
        "cityinfo = strData.removeprefix('[info]')\n",
        "print(cityinfo)"
      ],
      "metadata": {
        "colab": {
          "base_uri": "https://localhost:8080/"
        },
        "id": "SqTG7OZxtcEo",
        "outputId": "6a01e5bc-0eb0-4210-fece-33bf19c1dda5"
      },
      "execution_count": 3,
      "outputs": [
        {
          "output_type": "stream",
          "name": "stdout",
          "text": [
            "Seoul is the captial of Korea.\n"
          ]
        }
      ]
    },
    {
      "cell_type": "code",
      "source": [
        "strData = '이것으로 문장을 마무리합니다.<EOD>'\n",
        "ret = strData.removesuffix('<EOD>')\n",
        "print(ret)"
      ],
      "metadata": {
        "colab": {
          "base_uri": "https://localhost:8080/"
        },
        "id": "xG19GEivtl_V",
        "outputId": "68854c7e-0385-4329-f5b9-35999f9f7e24"
      },
      "execution_count": 4,
      "outputs": [
        {
          "output_type": "stream",
          "name": "stdout",
          "text": [
            "이것으로 문장을 마무리합니다.\n"
          ]
        }
      ]
    },
    {
      "cell_type": "code",
      "source": [
        "\"091.문자열을 바이트 문자열로 변환하기: str.encode()\""
      ],
      "metadata": {
        "colab": {
          "base_uri": "https://localhost:8080/",
          "height": 36
        },
        "id": "1XutN0Hhty8i",
        "outputId": "97cdb51c-4827-4458-f8b3-edb2bbefb1e4"
      },
      "execution_count": 5,
      "outputs": [
        {
          "output_type": "execute_result",
          "data": {
            "text/plain": [
              "'091.문자열을 바이트 문자열로 변환하기: str.encode()'"
            ],
            "application/vnd.google.colaboratory.intrinsic+json": {
              "type": "string"
            }
          },
          "metadata": {},
          "execution_count": 5
        }
      ]
    },
    {
      "cell_type": "code",
      "source": [
        "strData = 'python'\n",
        "byteData = strData.encode()\n",
        "print(byteData)"
      ],
      "metadata": {
        "colab": {
          "base_uri": "https://localhost:8080/"
        },
        "id": "Ts22Vv2_t7pY",
        "outputId": "62af881e-5d22-44e2-f4c7-2f03a3873290"
      },
      "execution_count": 6,
      "outputs": [
        {
          "output_type": "stream",
          "name": "stdout",
          "text": [
            "b'python'\n"
          ]
        }
      ]
    },
    {
      "cell_type": "code",
      "source": [
        "for idx, c in enumerate(strData):\n",
        "  print(f'strData[{idx}] = {c}')"
      ],
      "metadata": {
        "colab": {
          "base_uri": "https://localhost:8080/"
        },
        "id": "vQGA1IVYuCA-",
        "outputId": "85b2fb94-648f-4ea7-ae6a-63869475eb68"
      },
      "execution_count": 7,
      "outputs": [
        {
          "output_type": "stream",
          "name": "stdout",
          "text": [
            "strData[0] = p\n",
            "strData[1] = y\n",
            "strData[2] = t\n",
            "strData[3] = h\n",
            "strData[4] = o\n",
            "strData[5] = n\n"
          ]
        }
      ]
    },
    {
      "cell_type": "code",
      "source": [
        "for idx, c in enumerate(byteData):\n",
        "  print(f'byteData[{idx}] = {c}')"
      ],
      "metadata": {
        "colab": {
          "base_uri": "https://localhost:8080/"
        },
        "id": "JCJeSK11uII3",
        "outputId": "85d064fd-9f64-4b48-efe6-e8cbd64e8971"
      },
      "execution_count": 8,
      "outputs": [
        {
          "output_type": "stream",
          "name": "stdout",
          "text": [
            "byteData[0] = 112\n",
            "byteData[1] = 121\n",
            "byteData[2] = 116\n",
            "byteData[3] = 104\n",
            "byteData[4] = 111\n",
            "byteData[5] = 110\n"
          ]
        }
      ]
    },
    {
      "cell_type": "code",
      "source": [
        "strData = '파이썬'\n",
        "byteData = strData.encode()\n",
        "print(byteData)"
      ],
      "metadata": {
        "colab": {
          "base_uri": "https://localhost:8080/"
        },
        "id": "N0ouC2dnuPNr",
        "outputId": "4a4d56b9-a546-4931-d004-e0b8b306f5b9"
      },
      "execution_count": 10,
      "outputs": [
        {
          "output_type": "stream",
          "name": "stdout",
          "text": [
            "b'\\xed\\x8c\\x8c\\xec\\x9d\\xb4\\xec\\x8d\\xac'\n"
          ]
        }
      ]
    },
    {
      "cell_type": "code",
      "source": [
        "strData = '파이썬'\n",
        "byteData = strData.encode('CP949')\n",
        "print(byteData)"
      ],
      "metadata": {
        "colab": {
          "base_uri": "https://localhost:8080/"
        },
        "id": "urwF35xIuV_5",
        "outputId": "1098cde4-ca36-4c38-8655-e5cf13766cd8"
      },
      "execution_count": 11,
      "outputs": [
        {
          "output_type": "stream",
          "name": "stdout",
          "text": [
            "b'\\xc6\\xc4\\xc0\\xcc\\xbd\\xe3'\n"
          ]
        }
      ]
    },
    {
      "cell_type": "code",
      "source": [],
      "metadata": {
        "id": "S2Lp5zsUucQY"
      },
      "execution_count": null,
      "outputs": []
    }
  ]
}
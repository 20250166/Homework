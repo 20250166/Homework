{
  "nbformat": 4,
  "nbformat_minor": 0,
  "metadata": {
    "colab": {
      "provenance": [],
      "authorship_tag": "ABX9TyMyir6k5DREzdR4xumVQTJC",
      "include_colab_link": true
    },
    "kernelspec": {
      "name": "python3",
      "display_name": "Python 3"
    },
    "language_info": {
      "name": "python"
    }
  },
  "cells": [
    {
      "cell_type": "markdown",
      "metadata": {
        "id": "view-in-github",
        "colab_type": "text"
      },
      "source": [
        "<a href=\"https://colab.research.google.com/github/20250166/Homework/blob/main/20251016_7879.ipynb\" target=\"_parent\"><img src=\"https://colab.research.google.com/assets/colab-badge.svg\" alt=\"Open In Colab\"/></a>"
      ]
    },
    {
      "cell_type": "code",
      "execution_count": 2,
      "metadata": {
        "colab": {
          "base_uri": "https://localhost:8080/",
          "height": 36
        },
        "id": "DQTFcF1Lky0s",
        "outputId": "39843b28-1120-4759-f06e-0302482d5c4a"
      },
      "outputs": [
        {
          "output_type": "execute_result",
          "data": {
            "text/plain": [
              "'078. 문자열에서 특정 문자열 위치 찾기: str.find()'"
            ],
            "application/vnd.google.colaboratory.intrinsic+json": {
              "type": "string"
            }
          },
          "metadata": {},
          "execution_count": 2
        }
      ],
      "source": [
        "\"078. 문자열에서 특정 문자열 위치 찾기: str.find()\""
      ]
    },
    {
      "cell_type": "code",
      "source": [
        "sample = 'A lot of things occur each day, it\\'s very dynamical every day.'\n",
        "pos = sample.find('day')\n",
        "print(pos)"
      ],
      "metadata": {
        "colab": {
          "base_uri": "https://localhost:8080/"
        },
        "id": "F8igCn0ElewI",
        "outputId": "4305945d-cc1a-4f66-ec98-454801860442"
      },
      "execution_count": 4,
      "outputs": [
        {
          "output_type": "stream",
          "name": "stdout",
          "text": [
            "27\n"
          ]
        }
      ]
    },
    {
      "cell_type": "code",
      "source": [
        "spos = 0\n",
        "idx = 0\n",
        "count = 1\n",
        "while idx != -1:\n",
        "  idx = sample.find('day', spos)\n",
        "  print(f'\"day\"가 발견된 [{count}]번째 인덱스 {idx}')\n",
        "  spos = idx +1\n",
        "  count += 1"
      ],
      "metadata": {
        "colab": {
          "base_uri": "https://localhost:8080/"
        },
        "id": "jOk3pSkpmMU7",
        "outputId": "3affa102-3df6-46af-d88c-d7f541c26193"
      },
      "execution_count": 6,
      "outputs": [
        {
          "output_type": "stream",
          "name": "stdout",
          "text": [
            "\"day\"가 발견된 [1]번째 인덱스 27\n",
            "\"day\"가 발견된 [2]번째 인덱스 58\n",
            "\"day\"가 발견된 [3]번째 인덱스 -1\n"
          ]
        }
      ]
    },
    {
      "cell_type": "code",
      "source": [
        "\"079. 문자열이 언어 문자로만 구성되어있는지 확인: str.isalpha\""
      ],
      "metadata": {
        "colab": {
          "base_uri": "https://localhost:8080/",
          "height": 36
        },
        "id": "VtnAgG7wmtCI",
        "outputId": "173f1192-8498-443b-de60-612b797ec600"
      },
      "execution_count": 7,
      "outputs": [
        {
          "output_type": "execute_result",
          "data": {
            "text/plain": [
              "'079. 문자열이 언어 문자로만 구성되어있는지 확인: str.isalpha'"
            ],
            "application/vnd.google.colaboratory.intrinsic+json": {
              "type": "string"
            }
          },
          "metadata": {},
          "execution_count": 7
        }
      ]
    },
    {
      "cell_type": "code",
      "source": [
        "strList = ['Hello', '오징어게임', '파이썬 lover', '안녕!', '제3세계']"
      ],
      "metadata": {
        "id": "Z0srYn4Am2fI"
      },
      "execution_count": 8,
      "outputs": []
    },
    {
      "cell_type": "code",
      "source": [
        "for text in strList:\n",
        "  print(f'\"text\" \\t --> {text.isalpha}')"
      ],
      "metadata": {
        "colab": {
          "base_uri": "https://localhost:8080/"
        },
        "id": "Xxw_h8DSm9Nx",
        "outputId": "11041e83-f4ab-4d7a-a6b0-6fe5d8b09cf6"
      },
      "execution_count": 9,
      "outputs": [
        {
          "output_type": "stream",
          "name": "stdout",
          "text": [
            "\"text\" \t --> <built-in method isalpha of str object at 0x78a61bddbd50>\n",
            "\"text\" \t --> <built-in method isalpha of str object at 0x78a61bce18e0>\n",
            "\"text\" \t --> <built-in method isalpha of str object at 0x78a61bd162b0>\n",
            "\"text\" \t --> <built-in method isalpha of str object at 0x78a61bce20b0>\n",
            "\"text\" \t --> <built-in method isalpha of str object at 0x78a61bd1e060>\n"
          ]
        }
      ]
    },
    {
      "cell_type": "code",
      "source": [],
      "metadata": {
        "id": "_stGf8qPnGJB"
      },
      "execution_count": null,
      "outputs": []
    }
  ]
}
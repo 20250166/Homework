{
  "nbformat": 4,
  "nbformat_minor": 0,
  "metadata": {
    "colab": {
      "provenance": [],
      "authorship_tag": "ABX9TyPiZqZ46gj2opDyDlBIaB9v",
      "include_colab_link": true
    },
    "kernelspec": {
      "name": "python3",
      "display_name": "Python 3"
    },
    "language_info": {
      "name": "python"
    }
  },
  "cells": [
    {
      "cell_type": "markdown",
      "metadata": {
        "id": "view-in-github",
        "colab_type": "text"
      },
      "source": [
        "<a href=\"https://colab.research.google.com/github/20250166/Homework/blob/main/20250912_1213.ipynb\" target=\"_parent\"><img src=\"https://colab.research.google.com/assets/colab-badge.svg\" alt=\"Open In Colab\"/></a>"
      ]
    },
    {
      "cell_type": "code",
      "execution_count": 1,
      "metadata": {
        "colab": {
          "base_uri": "https://localhost:8080/",
          "height": 36
        },
        "id": "H9Sib249A2FA",
        "outputId": "96c26f92-5dab-4e2e-9034-f1a6eaeec466"
      },
      "outputs": [
        {
          "output_type": "execute_result",
          "data": {
            "text/plain": [
              "'012.들여쓰기 // 파이썬에서 들여쓰기가 어떤 의미인지 배운다.'"
            ],
            "application/vnd.google.colaboratory.intrinsic+json": {
              "type": "string"
            }
          },
          "metadata": {},
          "execution_count": 1
        }
      ],
      "source": [
        "\"012.들여쓰기 // 파이썬에서 들여쓰기가 어떤 의미인지 배운다.\""
      ]
    },
    {
      "cell_type": "code",
      "source": [
        "listData = ['a', 'b','c']\n",
        "if 'a' in listData:\n",
        "  print('\"a\"가 listData 안에 요소로 존재합니다.')\n",
        "else:\n",
        "  print('\"a\"가 listData 안에 요소로 존재하지 않습니다.')"
      ],
      "metadata": {
        "colab": {
          "base_uri": "https://localhost:8080/"
        },
        "id": "ovT25ZgaA5_m",
        "outputId": "28a43f0f-7854-4205-b4ad-70a47f80bb30"
      },
      "execution_count": 2,
      "outputs": [
        {
          "output_type": "stream",
          "name": "stdout",
          "text": [
            "\"a\"가 listData 안에 요소로 존재합니다.\n"
          ]
        }
      ]
    },
    {
      "cell_type": "code",
      "source": [
        "listData = ['a', 'b','c']\n",
        "if 'a' in listData: print('\"a\"가 listData 안에 요소로 존재합니다.')"
      ],
      "metadata": {
        "colab": {
          "base_uri": "https://localhost:8080/"
        },
        "id": "W-NsxmO9BRnQ",
        "outputId": "0fdf920b-54f7-4a4d-e094-6d58d9f8d30d"
      },
      "execution_count": 3,
      "outputs": [
        {
          "output_type": "stream",
          "name": "stdout",
          "text": [
            "\"a\"가 listData 안에 요소로 존재합니다.\n"
          ]
        }
      ]
    },
    {
      "cell_type": "code",
      "source": [
        "#if 'a' in listData:\n",
        "  #실행 코드(들여쓰기 필수)"
      ],
      "metadata": {
        "id": "4aqsFfeNBd4g"
      },
      "execution_count": 5,
      "outputs": []
    },
    {
      "cell_type": "code",
      "source": [
        "listData = ['a','b','c']\n",
        "if 'a' in listData:\n",
        "  print('\"a\"가 listData 안에 요소로 존재합니다.')\n",
        "else:\n",
        "  print('\"a\"가 listData 안에 요소로 존재하지 않습니다.')"
      ],
      "metadata": {
        "colab": {
          "base_uri": "https://localhost:8080/"
        },
        "id": "cBPw13JwBgD1",
        "outputId": "4f86fa6d-9d5e-4596-9cc1-f02538d1f61f"
      },
      "execution_count": 6,
      "outputs": [
        {
          "output_type": "stream",
          "name": "stdout",
          "text": [
            "\"a\"가 listData 안에 요소로 존재합니다.\n"
          ]
        }
      ]
    },
    {
      "cell_type": "code",
      "source": [
        "listData = ['a','b','c']\n",
        "if 'a' in listData:\n",
        "  print('\"a\"가 listData에 요소로 존재합니다.')\n",
        "    print('프로그램을 종료합니다.')\n",
        "else:\n",
        "  print('\"a\"가 listData 안에 요소로 존재하지 않습니다.')\n",
        "\n",
        "# if문 실행 코드의 간격이 동일하지 않으면 error"
      ],
      "metadata": {
        "colab": {
          "base_uri": "https://localhost:8080/",
          "height": 112
        },
        "id": "dPLTf1pDB4Qv",
        "outputId": "09b78724-37cd-4eef-ee04-a19e55bc0388"
      },
      "execution_count": 7,
      "outputs": [
        {
          "output_type": "error",
          "ename": "IndentationError",
          "evalue": "unexpected indent (ipython-input-341468976.py, line 4)",
          "traceback": [
            "\u001b[0;36m  File \u001b[0;32m\"/tmp/ipython-input-341468976.py\"\u001b[0;36m, line \u001b[0;32m4\u001b[0m\n\u001b[0;31m    print('프로그램을 종료합니다.')\u001b[0m\n\u001b[0m    ^\u001b[0m\n\u001b[0;31mIndentationError\u001b[0m\u001b[0;31m:\u001b[0m unexpected indent\n"
          ]
        }
      ]
    },
    {
      "cell_type": "code",
      "source": [
        "\"013.None상수 // 파이썬의 특별한 상수 None에 대해 배운다.\""
      ],
      "metadata": {
        "colab": {
          "base_uri": "https://localhost:8080/",
          "height": 36
        },
        "id": "qud4LaQACI94",
        "outputId": "3f3b0c22-11d7-4278-96f3-b162f35e8283"
      },
      "execution_count": 8,
      "outputs": [
        {
          "output_type": "execute_result",
          "data": {
            "text/plain": [
              "'013.None상수 // 파이썬의 특별한 상수 None에 대해 배운다.'"
            ],
            "application/vnd.google.colaboratory.intrinsic+json": {
              "type": "string"
            }
          },
          "metadata": {},
          "execution_count": 8
        }
      ]
    },
    {
      "cell_type": "code",
      "source": [
        "#None: 아무런 값을 가지지 않는 변수. 빈 깡통과 유사"
      ],
      "metadata": {
        "id": "s6Q2HzzBCN5l"
      },
      "execution_count": 9,
      "outputs": []
    },
    {
      "cell_type": "code",
      "source": [
        "val = None\n",
        "flag = True\n",
        "if flag:\n",
        "  val = [1,2,3,4,5]\n",
        "else:\n",
        "  val = '안녕하세요 파이썬!'"
      ],
      "metadata": {
        "id": "w05L8wwbCraB"
      },
      "execution_count": 10,
      "outputs": []
    },
    {
      "cell_type": "code",
      "source": [
        "#None으로 지정된 변수에 값이 있는 임의의 자료형을 할당하여 활용 가능.\n",
        "#추가적으로, 어떤 변수에 할당할 자료형을 결정하지 않은 상태로 선언할 때나 함수에서 아무 값도 리턴하지 않고 끝낼 때 사용하기도 함."
      ],
      "metadata": {
        "id": "5khpTt4TC00G"
      },
      "execution_count": 11,
      "outputs": []
    }
  ]
}
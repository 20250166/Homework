{
  "nbformat": 4,
  "nbformat_minor": 0,
  "metadata": {
    "colab": {
      "provenance": [],
      "authorship_tag": "ABX9TyN/1VRxuHxU4CJHbRP3dGbz",
      "include_colab_link": true
    },
    "kernelspec": {
      "name": "python3",
      "display_name": "Python 3"
    },
    "language_info": {
      "name": "python"
    }
  },
  "cells": [
    {
      "cell_type": "markdown",
      "metadata": {
        "id": "view-in-github",
        "colab_type": "text"
      },
      "source": [
        "<a href=\"https://colab.research.google.com/github/20250166/Homework/blob/main/20251001_4849.ipynb\" target=\"_parent\"><img src=\"https://colab.research.google.com/assets/colab-badge.svg\" alt=\"Open In Colab\"/></a>"
      ]
    },
    {
      "cell_type": "code",
      "execution_count": null,
      "metadata": {
        "id": "Pc4wyM0D6zEF"
      },
      "outputs": [],
      "source": [
        "\"048.시퀀스 자료 슬라이싱:s[i:j]\""
      ]
    },
    {
      "cell_type": "code",
      "source": [
        "'s[s_index, e_index]'"
      ],
      "metadata": {
        "colab": {
          "base_uri": "https://localhost:8080/",
          "height": 36
        },
        "id": "af6sjMyS622J",
        "outputId": "2e1c9c00-19e0-42bb-b22c-51cd976678ea"
      },
      "execution_count": 2,
      "outputs": [
        {
          "output_type": "execute_result",
          "data": {
            "text/plain": [
              "'s[s_index, e_index]'"
            ],
            "application/vnd.google.colaboratory.intrinsic+json": {
              "type": "string"
            }
          },
          "metadata": {},
          "execution_count": 2
        }
      ]
    },
    {
      "cell_type": "code",
      "source": [
        "wise_saying = \"Time is money! Don't waste your time!\"\n",
        "print(wise_saying[6:10])"
      ],
      "metadata": {
        "colab": {
          "base_uri": "https://localhost:8080/"
        },
        "id": "HoC829aL67yZ",
        "outputId": "d80133c3-0639-4ef9-d9f4-db3ec3e7de22"
      },
      "execution_count": 4,
      "outputs": [
        {
          "output_type": "stream",
          "name": "stdout",
          "text": [
            "s mo\n"
          ]
        }
      ]
    },
    {
      "cell_type": "code",
      "source": [
        "print(wise_saying[:5])"
      ],
      "metadata": {
        "colab": {
          "base_uri": "https://localhost:8080/"
        },
        "id": "rFXsa2_h7HrF",
        "outputId": "0be3df39-d204-4da6-e172-80f9d9e849df"
      },
      "execution_count": 5,
      "outputs": [
        {
          "output_type": "stream",
          "name": "stdout",
          "text": [
            "Time \n"
          ]
        }
      ]
    },
    {
      "cell_type": "code",
      "source": [
        "print(wise_saying[15:])"
      ],
      "metadata": {
        "colab": {
          "base_uri": "https://localhost:8080/"
        },
        "id": "AIRVGavP7Mrm",
        "outputId": "36b8ae8b-5732-41a4-94da-94e6ecdb6f0e"
      },
      "execution_count": 6,
      "outputs": [
        {
          "output_type": "stream",
          "name": "stdout",
          "text": [
            "Don't waste your time!\n"
          ]
        }
      ]
    },
    {
      "cell_type": "code",
      "source": [
        "print(wise_saying[:-1])"
      ],
      "metadata": {
        "colab": {
          "base_uri": "https://localhost:8080/"
        },
        "id": "aDHD1Dk57Pc6",
        "outputId": "8be06b74-a766-4140-f1c9-2678d5f0c566"
      },
      "execution_count": 7,
      "outputs": [
        {
          "output_type": "stream",
          "name": "stdout",
          "text": [
            "Time is money! Don't waste your time\n"
          ]
        }
      ]
    },
    {
      "cell_type": "code",
      "source": [
        "print(wise_saying[-5:])"
      ],
      "metadata": {
        "colab": {
          "base_uri": "https://localhost:8080/"
        },
        "id": "zFp9HX6-7TqC",
        "outputId": "76b51630-f9d3-47fa-9de4-ef9c0b64025b"
      },
      "execution_count": 8,
      "outputs": [
        {
          "output_type": "stream",
          "name": "stdout",
          "text": [
            "time!\n"
          ]
        }
      ]
    },
    {
      "cell_type": "code",
      "source": [
        "print(wise_saying[:])"
      ],
      "metadata": {
        "colab": {
          "base_uri": "https://localhost:8080/"
        },
        "id": "54NzzmpC7WtP",
        "outputId": "2975d4d8-7c3b-4dd5-f77a-275e8fae8b0f"
      },
      "execution_count": 9,
      "outputs": [
        {
          "output_type": "stream",
          "name": "stdout",
          "text": [
            "Time is money! Don't waste your time!\n"
          ]
        }
      ]
    },
    {
      "cell_type": "code",
      "source": [
        "intLIst = [0,1,2,3,4,5,6,7,8,9]\n",
        "print(intLIst[::2])"
      ],
      "metadata": {
        "colab": {
          "base_uri": "https://localhost:8080/"
        },
        "id": "b1vN5OOJ7YEz",
        "outputId": "72d98963-8562-48d6-fa2a-49a3108b10f6"
      },
      "execution_count": 10,
      "outputs": [
        {
          "output_type": "stream",
          "name": "stdout",
          "text": [
            "[0, 2, 4, 6, 8]\n"
          ]
        }
      ]
    },
    {
      "cell_type": "code",
      "source": [
        "print(intLIst[1::2])"
      ],
      "metadata": {
        "colab": {
          "base_uri": "https://localhost:8080/"
        },
        "id": "kGHAgqAJ7d_j",
        "outputId": "996a1a87-f911-4d26-f93e-3927e7b8a4c9"
      },
      "execution_count": 12,
      "outputs": [
        {
          "output_type": "stream",
          "name": "stdout",
          "text": [
            "[1, 3, 5, 7, 9]\n"
          ]
        }
      ]
    },
    {
      "cell_type": "code",
      "source": [
        "\"049.시퀀스 자료 연걸/반복: =,*\""
      ],
      "metadata": {
        "colab": {
          "base_uri": "https://localhost:8080/",
          "height": 36
        },
        "id": "wvIZ5q1e7hjS",
        "outputId": "670b90f1-6921-4ff3-8af1-32c812f5d0f9"
      },
      "execution_count": 13,
      "outputs": [
        {
          "output_type": "execute_result",
          "data": {
            "text/plain": [
              "'049.시퀀스 자료 연걸/반복: =,*'"
            ],
            "application/vnd.google.colaboratory.intrinsic+json": {
              "type": "string"
            }
          },
          "metadata": {},
          "execution_count": 13
        }
      ]
    },
    {
      "cell_type": "code",
      "source": [
        "url1 = 'https://blog.naver.com/'\n",
        "url2 = 'samsjang'\n",
        "print(url1+url2)"
      ],
      "metadata": {
        "colab": {
          "base_uri": "https://localhost:8080/"
        },
        "id": "I4NZwXkm7sHZ",
        "outputId": "12ac483f-ad2f-4554-a084-9a772bfa2fe8"
      },
      "execution_count": 15,
      "outputs": [
        {
          "output_type": "stream",
          "name": "stdout",
          "text": [
            "https://blog.naver.com/samsjang\n"
          ]
        }
      ]
    },
    {
      "cell_type": "code",
      "source": [
        "list1 = [0,1,2]\n",
        "list2 = [3,4,5]\n",
        "print(list1 + list2)"
      ],
      "metadata": {
        "colab": {
          "base_uri": "https://localhost:8080/"
        },
        "id": "z24OtFEx73xD",
        "outputId": "421b9040-da23-41fc-d67b-2db44cc2206e"
      },
      "execution_count": 19,
      "outputs": [
        {
          "output_type": "stream",
          "name": "stdout",
          "text": [
            "[0, 1, 2, 3, 4, 5]\n"
          ]
        }
      ]
    },
    {
      "cell_type": "code",
      "source": [
        "print(list2+list1)"
      ],
      "metadata": {
        "colab": {
          "base_uri": "https://localhost:8080/"
        },
        "id": "12237cwg7_7F",
        "outputId": "4ecd5bbb-6eb9-4d3e-d830-539127ce6a16"
      },
      "execution_count": 17,
      "outputs": [
        {
          "output_type": "stream",
          "name": "stdout",
          "text": [
            "[3, 4, 5, 0, 1, 2]\n"
          ]
        }
      ]
    },
    {
      "cell_type": "code",
      "source": [
        "listData = [0,1,2]\n",
        "strData = '시퀀스 자료의 연결'\n",
        "print(listData = strData)"
      ],
      "metadata": {
        "colab": {
          "base_uri": "https://localhost:8080/",
          "height": 187
        },
        "id": "v9rMgnoo8B_e",
        "outputId": "45daa7f5-6724-4c18-b391-72a988c9ee62"
      },
      "execution_count": 20,
      "outputs": [
        {
          "output_type": "error",
          "ename": "TypeError",
          "evalue": "'listData' is an invalid keyword argument for print()",
          "traceback": [
            "\u001b[0;31m---------------------------------------------------------------------------\u001b[0m",
            "\u001b[0;31mTypeError\u001b[0m                                 Traceback (most recent call last)",
            "\u001b[0;32m/tmp/ipython-input-940922985.py\u001b[0m in \u001b[0;36m<cell line: 0>\u001b[0;34m()\u001b[0m\n\u001b[1;32m      1\u001b[0m \u001b[0mlistData\u001b[0m \u001b[0;34m=\u001b[0m \u001b[0;34m[\u001b[0m\u001b[0;36m0\u001b[0m\u001b[0;34m,\u001b[0m\u001b[0;36m1\u001b[0m\u001b[0;34m,\u001b[0m\u001b[0;36m2\u001b[0m\u001b[0;34m]\u001b[0m\u001b[0;34m\u001b[0m\u001b[0;34m\u001b[0m\u001b[0m\n\u001b[1;32m      2\u001b[0m \u001b[0mstrData\u001b[0m \u001b[0;34m=\u001b[0m \u001b[0;34m'시퀀스 자료의 연결'\u001b[0m\u001b[0;34m\u001b[0m\u001b[0;34m\u001b[0m\u001b[0m\n\u001b[0;32m----> 3\u001b[0;31m \u001b[0mprint\u001b[0m\u001b[0;34m(\u001b[0m\u001b[0mlistData\u001b[0m \u001b[0;34m=\u001b[0m \u001b[0mstrData\u001b[0m\u001b[0;34m)\u001b[0m\u001b[0;34m\u001b[0m\u001b[0;34m\u001b[0m\u001b[0m\n\u001b[0m",
            "\u001b[0;31mTypeError\u001b[0m: 'listData' is an invalid keyword argument for print()"
          ]
        }
      ]
    },
    {
      "cell_type": "code",
      "source": [
        "lyrics1 = '빗소리만 하얗게 나를'\n",
        "lyrics2 = '감싸네~'\n",
        "print(lyrics1+lyrics2*3)"
      ],
      "metadata": {
        "colab": {
          "base_uri": "https://localhost:8080/"
        },
        "id": "AutAeCe68RuH",
        "outputId": "545d44f5-e1a7-4da2-f70a-9959b34fa606"
      },
      "execution_count": 21,
      "outputs": [
        {
          "output_type": "stream",
          "name": "stdout",
          "text": [
            "빗소리만 하얗게 나를감싸네~감싸네~감싸네~\n"
          ]
        }
      ]
    },
    {
      "cell_type": "code",
      "source": [],
      "metadata": {
        "id": "_sr93CyI8ckA"
      },
      "execution_count": null,
      "outputs": []
    }
  ]
}